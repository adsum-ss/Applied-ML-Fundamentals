{
 "cells": [
  {
   "cell_type": "markdown",
   "id": "98d0c8c1",
   "metadata": {},
   "source": [
    "## <p style=\"background-color:#34495E; color:lightgray; font-size:100%; text-align:center; border-radius:20px 20px;width:950px;height:50px;line-height:50px;border-style:round;\">Main Classification Evaluation/Error Metrics | Confusion Matrix (Binary & Multiclass)</p>"
   ]
  },
  {
   "cell_type": "markdown",
   "id": "709e4ade",
   "metadata": {},
   "source": [
    "Classification is the problem of identifying which of a set of categories an observation (or observations) belongs to. Binary classification is the task of classifying the elements of a set into two groups (each called class) on the basis of a classification rule. In machine learning, multiclass or multinomial classification is the problem of classifying instances into one of three or more classes. *(wikipedia)*\n",
    "\n",
    "Classification metrics play a critical role in achieving the optimal classifier during the classification training.\n",
    "Thus, a selection of suitable evaluation metric is an important key for discriminating and obtaining the\n",
    "optimal classifier.\n",
    "\n",
    "The classification metrics are generated from the confusion matrix. A confusion matrix helps measure the performance of a classification problem with the help of different metrics that can be calculated from it.\n",
    "\n",
    "Understanding the confusion matrix and choosing the right metric is critical for evaluating the ML model.\n",
    "\n",
    "This notebook presents an overview on the concepts of classification metrics, examples of calculating *(including macro, weighted, and micro averages)* visualizing main classification metrics, and cross-validating and GridSearchCV for multiclass classification using scikit-learn library."
   ]
  },
  {
   "cell_type": "markdown",
   "id": "a15652c8",
   "metadata": {},
   "source": [
    "### CONTENT\n",
    "<a id='content'></a>\n",
    "\n",
    "\n",
    "- 1) [Data Review](#phase1)\n",
    "\n",
    "\n",
    "- 2) [Model Building](#phase2)\n",
    "\n",
    "   \n",
    "- 3) [Confusion Matrix](#phase3)\n",
    "    * 3.1 [General Overview and Main Concepts](#part3.1)\n",
    "    * 3.2 [sklearn.metrics.confusion_matrix](#part3.2)\n",
    "    * 3.3 [Confusion Matrix Visualization](#part3.3)\n",
    "    \n",
    "    \n",
    "- 4) [Classification Metrics](#phase4)\n",
    "    * 4.1 [Classification Report](#part4.1)\n",
    "    * 4.2 [Accuracy (accuracy_score)](#part4.2)\n",
    "    * 4.3 [Precision (precision_score)](#part4.3)\n",
    "    * 4.4 [Recall (recall_score) - Specificity](#part4.4)\n",
    "    * 4.5 [F Measure (f1_score & fbeta_score)](#part4.5)\n",
    "    * 4.6 [Balanced Accuracy Score](#part4.6)\n",
    "    \n",
    "    \n",
    "- 5) [Multiclass Classification](#phase5)\n",
    "    * 5.1 [Data Review](#part5.1)\n",
    "    * 5.2 [Preprocessing and Modeling](#part5.2)\n",
    "    * 5.3 [Multilabel Confusion Matrix](#part5.3)\n",
    "    * 5.4 [Confusion Matrix Visualization](#part5.4)\n",
    "    * 5.5 [Main Classification Metrics](#part5.5)\n",
    "         * 5.5.1 [sklearn.metrics.classification_report](#part5.5.1)\n",
    "         * 5.5.2 [micro average scores](#part5.5.2)\n",
    "         * 5.5.3 [accuracy, precision, recall, and f1 scores](#part5.5.3)\n",
    "         * 5.5.4 [sklearn.metrics.precision_recall_fscore_support](#part5.5.4)\n",
    "    * 5.6 [Cross Validation For Multiclass Classification](#part5.6)\n",
    "         * 5.6.1 [cross-validation for all classes](#part5.6.1)\n",
    "         * 5.6.2 [cross-validation for a subset of classes](#part5.6.2)\n",
    "         * 5.6.3 [cross-validation for a specific class](#part5.6.3)\n",
    "    * 5.7 [GridSearchCV For Multiclass Classification](#part5.7)\n",
    "         * 5.7.1 [GridSearchCV for accuracy score](#part5.7.1)\n",
    "         * 5.7.2 [GridSearchCV for balanced accuracy score (macro avg-recall)](#part5.7.2)\n",
    "         * 5.7.3 [GridSearchCV for a specific class](#part5.7.3)\n",
    "    \n"
   ]
  },
  {
   "cell_type": "markdown",
   "id": "d190c78d",
   "metadata": {},
   "source": [
    "## <p style=\"background-color:seagreen; color:lightgray; font-size:100%; text-align:center; border-radius:20px 20px;width:950px;height:50px;line-height:50px;border-style:round;\">1. Data Review<a id='phase1'></p>"
   ]
  },
  {
   "cell_type": "code",
   "execution_count": 1,
   "id": "c2e9a6f5",
   "metadata": {},
   "outputs": [],
   "source": [
    "import numpy as np\n",
    "import pandas as pd\n",
    "\n",
    "import matplotlib.pyplot as plt\n",
    "import seaborn as sns\n",
    "from yellowbrick.style import set_palette\n",
    "set_palette('flatui')\n",
    "\n",
    "import warnings\n",
    "warnings.filterwarnings('ignore')\n",
    "\n",
    "sns.set_style(\"darkgrid\")\n",
    "plt.rcParams[\"figure.figsize\"] = (10,6)\n",
    "pd.set_option('display.float_format', '{:.3f}'.format)"
   ]
  },
  {
   "cell_type": "markdown",
   "id": "db858302",
   "metadata": {},
   "source": [
    "We will skip the EDA as we will focus on the classification metrics"
   ]
  },
  {
   "cell_type": "code",
   "execution_count": 2,
   "id": "cf7409f2",
   "metadata": {},
   "outputs": [
    {
     "name": "stdout",
     "output_type": "stream",
     "text": [
      "Dataset Shape  :  (768, 9)\n",
      "Missing Values :  0\n"
     ]
    },
    {
     "data": {
      "text/html": [
       "<div>\n",
       "<style scoped>\n",
       "    .dataframe tbody tr th:only-of-type {\n",
       "        vertical-align: middle;\n",
       "    }\n",
       "\n",
       "    .dataframe tbody tr th {\n",
       "        vertical-align: top;\n",
       "    }\n",
       "\n",
       "    .dataframe thead th {\n",
       "        text-align: right;\n",
       "    }\n",
       "</style>\n",
       "<table border=\"1\" class=\"dataframe\">\n",
       "  <thead>\n",
       "    <tr style=\"text-align: right;\">\n",
       "      <th></th>\n",
       "      <th>Pregnancies</th>\n",
       "      <th>Glucose</th>\n",
       "      <th>BloodPressure</th>\n",
       "      <th>SkinThickness</th>\n",
       "      <th>Insulin</th>\n",
       "      <th>BMI</th>\n",
       "      <th>DiabetesPedigreeFunction</th>\n",
       "      <th>Age</th>\n",
       "      <th>Outcome</th>\n",
       "    </tr>\n",
       "  </thead>\n",
       "  <tbody>\n",
       "    <tr>\n",
       "      <th>0</th>\n",
       "      <td>6</td>\n",
       "      <td>148</td>\n",
       "      <td>72</td>\n",
       "      <td>35</td>\n",
       "      <td>0</td>\n",
       "      <td>33.600</td>\n",
       "      <td>0.627</td>\n",
       "      <td>50</td>\n",
       "      <td>1</td>\n",
       "    </tr>\n",
       "    <tr>\n",
       "      <th>1</th>\n",
       "      <td>1</td>\n",
       "      <td>85</td>\n",
       "      <td>66</td>\n",
       "      <td>29</td>\n",
       "      <td>0</td>\n",
       "      <td>26.600</td>\n",
       "      <td>0.351</td>\n",
       "      <td>31</td>\n",
       "      <td>0</td>\n",
       "    </tr>\n",
       "    <tr>\n",
       "      <th>2</th>\n",
       "      <td>8</td>\n",
       "      <td>183</td>\n",
       "      <td>64</td>\n",
       "      <td>0</td>\n",
       "      <td>0</td>\n",
       "      <td>23.300</td>\n",
       "      <td>0.672</td>\n",
       "      <td>32</td>\n",
       "      <td>1</td>\n",
       "    </tr>\n",
       "    <tr>\n",
       "      <th>3</th>\n",
       "      <td>1</td>\n",
       "      <td>89</td>\n",
       "      <td>66</td>\n",
       "      <td>23</td>\n",
       "      <td>94</td>\n",
       "      <td>28.100</td>\n",
       "      <td>0.167</td>\n",
       "      <td>21</td>\n",
       "      <td>0</td>\n",
       "    </tr>\n",
       "    <tr>\n",
       "      <th>4</th>\n",
       "      <td>0</td>\n",
       "      <td>137</td>\n",
       "      <td>40</td>\n",
       "      <td>35</td>\n",
       "      <td>168</td>\n",
       "      <td>43.100</td>\n",
       "      <td>2.288</td>\n",
       "      <td>33</td>\n",
       "      <td>1</td>\n",
       "    </tr>\n",
       "  </tbody>\n",
       "</table>\n",
       "</div>"
      ],
      "text/plain": [
       "   Pregnancies  Glucose  BloodPressure  SkinThickness  Insulin    BMI  \\\n",
       "0            6      148             72             35        0 33.600   \n",
       "1            1       85             66             29        0 26.600   \n",
       "2            8      183             64              0        0 23.300   \n",
       "3            1       89             66             23       94 28.100   \n",
       "4            0      137             40             35      168 43.100   \n",
       "\n",
       "   DiabetesPedigreeFunction  Age  Outcome  \n",
       "0                     0.627   50        1  \n",
       "1                     0.351   31        0  \n",
       "2                     0.672   32        1  \n",
       "3                     0.167   21        0  \n",
       "4                     2.288   33        1  "
      ]
     },
     "execution_count": 2,
     "metadata": {},
     "output_type": "execute_result"
    }
   ],
   "source": [
    "df=pd.read_csv(\"diabetes.csv\")\n",
    "print('Dataset Shape  : ', df.shape)\n",
    "print('Missing Values : ', df.isnull().sum().sum())\n",
    "df.head()"
   ]
  },
  {
   "cell_type": "code",
   "execution_count": 3,
   "id": "d529e7a9",
   "metadata": {},
   "outputs": [
    {
     "data": {
      "text/html": [
       "<div>\n",
       "<style scoped>\n",
       "    .dataframe tbody tr th:only-of-type {\n",
       "        vertical-align: middle;\n",
       "    }\n",
       "\n",
       "    .dataframe tbody tr th {\n",
       "        vertical-align: top;\n",
       "    }\n",
       "\n",
       "    .dataframe thead th {\n",
       "        text-align: right;\n",
       "    }\n",
       "</style>\n",
       "<table border=\"1\" class=\"dataframe\">\n",
       "  <thead>\n",
       "    <tr style=\"text-align: right;\">\n",
       "      <th></th>\n",
       "      <th>Pregnancies</th>\n",
       "      <th>Glucose</th>\n",
       "      <th>BloodPressure</th>\n",
       "      <th>SkinThickness</th>\n",
       "      <th>Insulin</th>\n",
       "      <th>BMI</th>\n",
       "      <th>DiabetesPedigreeFunction</th>\n",
       "      <th>Age</th>\n",
       "      <th>Outcome</th>\n",
       "    </tr>\n",
       "  </thead>\n",
       "  <tbody>\n",
       "    <tr>\n",
       "      <th>count</th>\n",
       "      <td>768.000</td>\n",
       "      <td>768.000</td>\n",
       "      <td>768.000</td>\n",
       "      <td>768.000</td>\n",
       "      <td>768.000</td>\n",
       "      <td>768.000</td>\n",
       "      <td>768.000</td>\n",
       "      <td>768.000</td>\n",
       "      <td>768.000</td>\n",
       "    </tr>\n",
       "    <tr>\n",
       "      <th>mean</th>\n",
       "      <td>3.845</td>\n",
       "      <td>120.895</td>\n",
       "      <td>69.105</td>\n",
       "      <td>20.536</td>\n",
       "      <td>79.799</td>\n",
       "      <td>31.993</td>\n",
       "      <td>0.472</td>\n",
       "      <td>33.241</td>\n",
       "      <td>0.349</td>\n",
       "    </tr>\n",
       "    <tr>\n",
       "      <th>std</th>\n",
       "      <td>3.370</td>\n",
       "      <td>31.973</td>\n",
       "      <td>19.356</td>\n",
       "      <td>15.952</td>\n",
       "      <td>115.244</td>\n",
       "      <td>7.884</td>\n",
       "      <td>0.331</td>\n",
       "      <td>11.760</td>\n",
       "      <td>0.477</td>\n",
       "    </tr>\n",
       "    <tr>\n",
       "      <th>min</th>\n",
       "      <td>0.000</td>\n",
       "      <td>0.000</td>\n",
       "      <td>0.000</td>\n",
       "      <td>0.000</td>\n",
       "      <td>0.000</td>\n",
       "      <td>0.000</td>\n",
       "      <td>0.078</td>\n",
       "      <td>21.000</td>\n",
       "      <td>0.000</td>\n",
       "    </tr>\n",
       "    <tr>\n",
       "      <th>25%</th>\n",
       "      <td>1.000</td>\n",
       "      <td>99.000</td>\n",
       "      <td>62.000</td>\n",
       "      <td>0.000</td>\n",
       "      <td>0.000</td>\n",
       "      <td>27.300</td>\n",
       "      <td>0.244</td>\n",
       "      <td>24.000</td>\n",
       "      <td>0.000</td>\n",
       "    </tr>\n",
       "    <tr>\n",
       "      <th>50%</th>\n",
       "      <td>3.000</td>\n",
       "      <td>117.000</td>\n",
       "      <td>72.000</td>\n",
       "      <td>23.000</td>\n",
       "      <td>30.500</td>\n",
       "      <td>32.000</td>\n",
       "      <td>0.372</td>\n",
       "      <td>29.000</td>\n",
       "      <td>0.000</td>\n",
       "    </tr>\n",
       "    <tr>\n",
       "      <th>75%</th>\n",
       "      <td>6.000</td>\n",
       "      <td>140.250</td>\n",
       "      <td>80.000</td>\n",
       "      <td>32.000</td>\n",
       "      <td>127.250</td>\n",
       "      <td>36.600</td>\n",
       "      <td>0.626</td>\n",
       "      <td>41.000</td>\n",
       "      <td>1.000</td>\n",
       "    </tr>\n",
       "    <tr>\n",
       "      <th>max</th>\n",
       "      <td>17.000</td>\n",
       "      <td>199.000</td>\n",
       "      <td>122.000</td>\n",
       "      <td>99.000</td>\n",
       "      <td>846.000</td>\n",
       "      <td>67.100</td>\n",
       "      <td>2.420</td>\n",
       "      <td>81.000</td>\n",
       "      <td>1.000</td>\n",
       "    </tr>\n",
       "  </tbody>\n",
       "</table>\n",
       "</div>"
      ],
      "text/plain": [
       "       Pregnancies  Glucose  BloodPressure  SkinThickness  Insulin     BMI  \\\n",
       "count      768.000  768.000        768.000        768.000  768.000 768.000   \n",
       "mean         3.845  120.895         69.105         20.536   79.799  31.993   \n",
       "std          3.370   31.973         19.356         15.952  115.244   7.884   \n",
       "min          0.000    0.000          0.000          0.000    0.000   0.000   \n",
       "25%          1.000   99.000         62.000          0.000    0.000  27.300   \n",
       "50%          3.000  117.000         72.000         23.000   30.500  32.000   \n",
       "75%          6.000  140.250         80.000         32.000  127.250  36.600   \n",
       "max         17.000  199.000        122.000         99.000  846.000  67.100   \n",
       "\n",
       "       DiabetesPedigreeFunction     Age  Outcome  \n",
       "count                   768.000 768.000  768.000  \n",
       "mean                      0.472  33.241    0.349  \n",
       "std                       0.331  11.760    0.477  \n",
       "min                       0.078  21.000    0.000  \n",
       "25%                       0.244  24.000    0.000  \n",
       "50%                       0.372  29.000    0.000  \n",
       "75%                       0.626  41.000    1.000  \n",
       "max                       2.420  81.000    1.000  "
      ]
     },
     "execution_count": 3,
     "metadata": {},
     "output_type": "execute_result"
    }
   ],
   "source": [
    "df.describe()"
   ]
  },
  {
   "cell_type": "markdown",
   "id": "6cbec4b6",
   "metadata": {},
   "source": [
    "There are incorrect values for some of the observations in the dataset. So we will drop those rows."
   ]
  },
  {
   "cell_type": "code",
   "execution_count": 4,
   "id": "0373369e",
   "metadata": {},
   "outputs": [],
   "source": [
    "df=df[df.SkinThickness < 70]\n",
    "df=df[df.Glucose > 0]\n",
    "df=df[df.BloodPressure > 35]\n",
    "df=df[df.BMI > 0]\n",
    "\n",
    "df.reset_index(drop=True, inplace=True)"
   ]
  },
  {
   "cell_type": "code",
   "execution_count": 5,
   "id": "73696447",
   "metadata": {},
   "outputs": [
    {
     "data": {
      "text/plain": [
       "(720, 9)"
      ]
     },
     "execution_count": 5,
     "metadata": {},
     "output_type": "execute_result"
    }
   ],
   "source": [
    "df.shape"
   ]
  },
  {
   "cell_type": "markdown",
   "id": "3dad5bf0",
   "metadata": {},
   "source": [
    "***target label***"
   ]
  },
  {
   "cell_type": "markdown",
   "id": "eca1a1b2",
   "metadata": {},
   "source": [
    "1 indicates diabetic and 0 non-diabetic."
   ]
  },
  {
   "cell_type": "code",
   "execution_count": 6,
   "id": "042c71b0",
   "metadata": {},
   "outputs": [
    {
     "data": {
      "image/png": "[encoded data removed]",
      "text/plain": [
       "<Figure size 864x360 with 2 Axes>"
      ]
     },
     "metadata": {},
     "output_type": "display_data"
    }
   ],
   "source": [
    "plt.figure(figsize=(12,5))\n",
    "\n",
    "x = df['Outcome'].value_counts().index\n",
    "y = df['Outcome'].value_counts().values\n",
    "\n",
    "plt.subplot(121)\n",
    "g = plt.bar(x,y, label='Outcome')\n",
    "plt.bar_label(g, padding=3, size=13), plt.ylim(0, 600)\n",
    "\n",
    "plt.xlabel('Outcome'), plt.ylabel('Number of Classes') \n",
    "plt.title('Distribution of Outcome', size=13)\n",
    "   \n",
    "plt.subplot(122)\n",
    "plt.pie(y, labels=x, autopct='%0.1f%%', radius=1.2, textprops={'color':'black','fontsize': 13})\n",
    "\n",
    "plt.tight_layout();"
   ]
  },
  {
   "cell_type": "markdown",
   "id": "be0b10e5",
   "metadata": {},
   "source": [
    "## <p style=\"background-color:seagreen; color:lightgray; font-size:100%; text-align:center; border-radius:20px 20px;width:950px;height:50px;line-height:50px;border-style:round;\">2. Model Building<a id='phase2'></p>"
   ]
  },
  {
   "cell_type": "markdown",
   "id": "842c293f",
   "metadata": {},
   "source": [
    "[CONTENT](#content)"
   ]
  },
  {
   "cell_type": "markdown",
   "id": "d23bdea9",
   "metadata": {},
   "source": [
    "## Preprocessing"
   ]
  },
  {
   "cell_type": "code",
   "execution_count": 7,
   "id": "f273c90a",
   "metadata": {},
   "outputs": [],
   "source": [
    "X=df.drop([\"Outcome\"], axis=1)\n",
    "y=df[\"Outcome\"]"
   ]
  },
  {
   "cell_type": "code",
   "execution_count": 8,
   "id": "0c7ef862",
   "metadata": {},
   "outputs": [],
   "source": [
    "from sklearn.model_selection import train_test_split\n",
    "X_train, X_test, y_train, y_test = train_test_split(X, y, stratify=y, test_size=0.2, random_state=42)"
   ]
  },
  {
   "cell_type": "code",
   "execution_count": 9,
   "id": "28433a16",
   "metadata": {},
   "outputs": [
    {
     "name": "stdout",
     "output_type": "stream",
     "text": [
      "Train features shape :  (576, 8)\n",
      "Test features shape  :  (144, 8)\n"
     ]
    }
   ],
   "source": [
    "print(\"Train features shape : \", X_train.shape)\n",
    "print(\"Test features shape  : \", X_test.shape)"
   ]
  },
  {
   "cell_type": "code",
   "execution_count": 10,
   "id": "6aec12a7",
   "metadata": {},
   "outputs": [
    {
     "data": {
      "text/plain": [
       "(0    378\n",
       " 1    198\n",
       " Name: Outcome, dtype: int64,\n",
       " 0    95\n",
       " 1    49\n",
       " Name: Outcome, dtype: int64)"
      ]
     },
     "execution_count": 10,
     "metadata": {},
     "output_type": "execute_result"
    }
   ],
   "source": [
    "y_train.value_counts(), y_test.value_counts()"
   ]
  },
  {
   "cell_type": "markdown",
   "id": "cc9af1c7",
   "metadata": {},
   "source": [
    "## Modeling"
   ]
  },
  {
   "cell_type": "code",
   "execution_count": 11,
   "id": "a51ed004",
   "metadata": {},
   "outputs": [],
   "source": [
    "from sklearn.linear_model import LogisticRegression\n",
    "\n",
    "from sklearn.preprocessing import StandardScaler\n",
    "from sklearn.pipeline import Pipeline\n",
    "\n",
    "from sklearn.metrics import confusion_matrix, classification_report, plot_confusion_matrix, ConfusionMatrixDisplay\n",
    "from sklearn.metrics import accuracy_score, f1_score, recall_score, precision_score, balanced_accuracy_score, fbeta_score"
   ]
  },
  {
   "cell_type": "code",
   "execution_count": 12,
   "id": "a7151f4c",
   "metadata": {},
   "outputs": [
    {
     "data": {
      "text/plain": [
       "Pipeline(steps=[('scaler', StandardScaler()),\n",
       "                ('clf', LogisticRegression(random_state=101))])"
      ]
     },
     "execution_count": 12,
     "metadata": {},
     "output_type": "execute_result"
    }
   ],
   "source": [
    "clf_model = Pipeline(steps=[\n",
    "      ('scaler', StandardScaler()),\n",
    "      ('clf', LogisticRegression(random_state=101))\n",
    "])\n",
    "\n",
    "clf_model.fit(X_train, y_train)"
   ]
  },
  {
   "cell_type": "code",
   "execution_count": 13,
   "id": "52c9e877",
   "metadata": {},
   "outputs": [],
   "source": [
    "y_pred = clf_model.predict(X_test)"
   ]
  },
  {
   "cell_type": "markdown",
   "id": "f49850b8",
   "metadata": {},
   "source": [
    "## <p style=\"background-color:seagreen; color:lightgray; font-size:100%; text-align:center; border-radius:20px 20px;width:950px;height:50px;line-height:50px;border-style:round;\">3. Confusion Matrix<a id='phase3'></p>"
   ]
  },
  {
   "cell_type": "markdown",
   "id": "1c444766",
   "metadata": {},
   "source": [
    "[CONTENT](#content)"
   ]
  },
  {
   "cell_type": "markdown",
   "id": "78a6dc02",
   "metadata": {},
   "source": [
    "## 3.1 General Overview and Main Concepts \n",
    "<a id='part3.1'>"
   ]
  },
  {
   "cell_type": "markdown",
   "id": "ddf84078",
   "metadata": {},
   "source": [
    "The classification metrics *(accuracy, precision, etc.)* are generated from the confusion matrix.\n",
    "\n",
    "It is a table with combinations of predicted and actual values.\n",
    "\n",
    "By definition a confusion matrix ***C*** is such that ***C(i, j)*** is equal to the number of observations known to be in group ***i*** and predicted to be in group ***j***.\n",
    "\n",
    "***NOTE : some references may use different conventions for axes***"
   ]
  },
  {
   "attachments": {
    "confusion_matrx4.png": {
     "image/png": "[encoded data removed]"
    }
   },
   "cell_type": "markdown",
   "id": "3a53ddb5",
   "metadata": {},
   "source": [
    "![confusion_matrx4.png](attachment:confusion_matrx4.png)"
   ]
  },
  {
   "cell_type": "markdown",
   "id": "927910bb",
   "metadata": {},
   "source": [
    "**some common terms**\n",
    "\n",
    "- ***True Positive (TP) :*** If the actual classification is positive and the predicted classification is positive **(1,1) or (PP)**, this is called a true positive result because the positive sample was correctly identified by the classifier.\n",
    "\n",
    "\n",
    "- ***True Negative (TN) :*** If the actual classification is negative and the predicted classification is negative **(0,0) or (NN)**, this is called a true negative result because the negative sample gets correctly identified by the classifier.\n",
    "\n",
    "\n",
    "- ***False Positive (FP) | Type I Error :*** If the actual classification is negative and the predicted classification is positive **(0,1) or (NP)**, this is called a false positive result because the negative sample is incorrectly identified by the classifier as being positive.\n",
    "\n",
    "\n",
    "- ***False Negative (FN) | Type II Error:*** If the actual classification is positive and the predicted classification is negative **(1,0) or (PN)**, this is called a false negative result because the positive sample is incorrectly identified by the classifier as being negative.\n",
    "\n",
    "------------------------------------------------------\n",
    "\n",
    "- ***Sensitivity, Recall, Hit Rate, or True Positive Rate (TPR) :*** TPR = TP / Actual Positives = TP / (TP + FN) = 1 - FNR\n",
    "\n",
    "\n",
    "- ***Specificity, Selectivity or True Negative Rate (TNR) :*** TNR = TN / Actual Negatives = TN / (TN + FP) = 1 - FPR\n",
    "\n",
    "\n",
    "- ***Miss Rate or False Negative Rate (FNR) :*** FNR = FN / Actual Positives = FN / (FN + TP) = 1 - TPR\n",
    "\n",
    "\n",
    "- ***Fall-out or False Positive Rate (FPR) :*** FPR = FP / Actual Negatives = FP / (FP + TN) = 1 - TNR\n",
    "\n",
    "\n",
    "SOURCE : [wikipedia](https://en.wikipedia.org/wiki/Confusion_matrix)"
   ]
  },
  {
   "cell_type": "markdown",
   "id": "094decc2",
   "metadata": {},
   "source": [
    "***"
   ]
  },
  {
   "cell_type": "markdown",
   "id": "ba4d4bd5",
   "metadata": {},
   "source": [
    "## 3.2 sklearn.metrics.confusion_matrix \n",
    "<a id='part3.2'>"
   ]
  },
  {
   "cell_type": "markdown",
   "id": "98f7aef2",
   "metadata": {},
   "source": [
    "The confusion_matrix function evaluates classification accuracy by computing the confusion matrix with each row corresponding to the true class *(Wikipedia and other references may use different convention for axes).*\n",
    "\n",
    "By definition, entry ***i, j*** in a confusion matrix is the number of observations actually in group ***i***, but predicted to be in group ***j***.\n",
    "\n",
    "Thus in binary classification, the count of true negatives is C(0,0), false negatives is C(1,0), true positives is C(1,1) and false positives is C(0,1).\n",
    "\n",
    "SOURCE : [sklearn.metrics](https://scikit-learn.org/stable/modules/generated/sklearn.metrics.confusion_matrix.html)"
   ]
  },
  {
   "cell_type": "code",
   "execution_count": 14,
   "id": "4e8ef8e4",
   "metadata": {},
   "outputs": [
    {
     "data": {
      "text/plain": [
       "array([[85, 10],\n",
       "       [20, 29]], dtype=int64)"
      ]
     },
     "execution_count": 14,
     "metadata": {},
     "output_type": "execute_result"
    }
   ],
   "source": [
    "# Confusion Matrix of our model\n",
    "confusion_matrix(y_test, y_pred)"
   ]
  },
  {
   "cell_type": "markdown",
   "id": "c78ad761",
   "metadata": {},
   "source": [
    "**\"labels\"** parameter may be used to reorder or select a subset of labels.\n",
    "\n",
    "*(labels that appear at least once in y_true or y_pred are used in sorted order by default)*"
   ]
  },
  {
   "cell_type": "code",
   "execution_count": 15,
   "id": "bb82d0c4",
   "metadata": {},
   "outputs": [
    {
     "data": {
      "text/plain": [
       "array([[29, 20],\n",
       "       [10, 85]], dtype=int64)"
      ]
     },
     "execution_count": 15,
     "metadata": {},
     "output_type": "execute_result"
    }
   ],
   "source": [
    "confusion_matrix(y_test, y_pred, labels=[1,0])"
   ]
  },
  {
   "cell_type": "markdown",
   "id": "165fc96a",
   "metadata": {},
   "source": [
    "In the binary case, we can extract true negatives, false positives, false negatives and true positives."
   ]
  },
  {
   "cell_type": "code",
   "execution_count": 16,
   "id": "c0d269ab",
   "metadata": {},
   "outputs": [],
   "source": [
    "tn, fp, fn, tp = confusion_matrix(y_test, y_pred).ravel()"
   ]
  },
  {
   "cell_type": "code",
   "execution_count": 17,
   "id": "a83c584b",
   "metadata": {},
   "outputs": [
    {
     "data": {
      "text/plain": [
       "(85, 10, 20, 29)"
      ]
     },
     "execution_count": 17,
     "metadata": {},
     "output_type": "execute_result"
    }
   ],
   "source": [
    "(tn, fp, fn, tp)"
   ]
  },
  {
   "cell_type": "markdown",
   "id": "dfb3d540",
   "metadata": {},
   "source": [
    "***"
   ]
  },
  {
   "cell_type": "markdown",
   "id": "068d60e7",
   "metadata": {},
   "source": [
    "## 3.3 Confusion Matrix Visualization\n",
    "<a id='part3.3'>"
   ]
  },
  {
   "cell_type": "code",
   "execution_count": 18,
   "id": "208cc210",
   "metadata": {},
   "outputs": [
    {
     "data": {
      "image/png": "[encoded data removed]",
      "text/plain": [
       "<Figure size 720x432 with 2 Axes>"
      ]
     },
     "metadata": {},
     "output_type": "display_data"
    }
   ],
   "source": [
    "ConfusionMatrixDisplay.from_predictions(y_test, y_pred)\n",
    "# ConfusionMatrixDisplay.from_estimator(clf_model, X_test, y_test)\n",
    "# plot_confusion_matrix(clf_model, X_test, y_test)\n",
    "plt.grid(None);"
   ]
  },
  {
   "cell_type": "markdown",
   "id": "0020e89a",
   "metadata": {},
   "source": [
    "**\"labels\"** parameter may be used to reorder or select a subset of labels.\n",
    "\n",
    "**\"display_labels\"** parameter can be used to rename classes."
   ]
  },
  {
   "cell_type": "code",
   "execution_count": 19,
   "id": "deb8ba04",
   "metadata": {},
   "outputs": [
    {
     "data": {
      "image/png": "[encoded data removed]",
      "text/plain": [
       "<Figure size 720x432 with 2 Axes>"
      ]
     },
     "metadata": {},
     "output_type": "display_data"
    }
   ],
   "source": [
    "ConfusionMatrixDisplay.from_predictions(y_test, y_pred, labels=[1,0], \n",
    "                                        display_labels=['1 (diabetic)','0 (non-diabetic)'])\n",
    "plt.grid(None);"
   ]
  },
  {
   "cell_type": "markdown",
   "id": "2c4ca22d",
   "metadata": {},
   "source": [
    "***Confusion Matrix Visualization With Seaborn Heatmap***"
   ]
  },
  {
   "cell_type": "code",
   "execution_count": 20,
   "id": "f018adac",
   "metadata": {},
   "outputs": [
    {
     "data": {
      "image/png": "[encoded data removed]",
      "text/plain": [
       "<Figure size 720x360 with 1 Axes>"
      ]
     },
     "metadata": {},
     "output_type": "display_data"
    }
   ],
   "source": [
    "plt.figure(figsize=(10,5))\n",
    "\n",
    "y_pred = clf_model.predict(X_test)\n",
    "clf_matrix = confusion_matrix(y_test, y_pred)\n",
    "\n",
    "condition_names = ['True Negatives (TN)', 'False Positives (FP)\\n(Type I Error)', \n",
    "                   'False Negatives (FN)\\n(Type II Error)', 'True Positives (TP)']\n",
    "condition_values = [value for value in clf_matrix.flatten()]\n",
    "\n",
    "labels = [f'{v1}\\n{v2}' for v1, v2 in zip(condition_names, condition_values)]\n",
    "labels = np.asarray(labels).reshape(2, 2)\n",
    "\n",
    "ax = sns.heatmap(clf_matrix, annot=labels, fmt=\"\", annot_kws={'size': 13}, cmap='viridis', linewidth=1, cbar=False)\n",
    "ax.set_xlabel('Predicted Class', fontsize=13)\n",
    "ax.set_ylabel('Actual Class', fontsize=13);"
   ]
  },
  {
   "cell_type": "markdown",
   "id": "fdd27efb",
   "metadata": {},
   "source": [
    "## <p style=\"background-color:seagreen; color:lightgray; font-size:100%; text-align:center; border-radius:20px 20px;width:950px;height:50px;line-height:50px;border-style:round;\">4. Performance/Evaluation/Error Metrics For Classification<a id='phase4'></p>"
   ]
  },
  {
   "cell_type": "markdown",
   "id": "fb214936",
   "metadata": {},
   "source": [
    "[CONTENT](#content)"
   ]
  },
  {
   "cell_type": "markdown",
   "id": "f817002b",
   "metadata": {},
   "source": [
    "This part will focus on the definition of some metrics and how to calculate their scores using the scikit-learn library."
   ]
  },
  {
   "cell_type": "markdown",
   "id": "2b050890",
   "metadata": {},
   "source": [
    "## 4.1 Classification Report\n",
    "<a id='part4.1'>"
   ]
  },
  {
   "cell_type": "markdown",
   "id": "01453dc4",
   "metadata": {},
   "source": [
    "### sklearn.metrics.classification_report"
   ]
  },
  {
   "cell_type": "markdown",
   "id": "74d0d9a1",
   "metadata": {},
   "source": [
    "The classification_report function builds a text report showing the main classification metrics."
   ]
  },
  {
   "cell_type": "code",
   "execution_count": 21,
   "id": "7f355676",
   "metadata": {},
   "outputs": [
    {
     "name": "stdout",
     "output_type": "stream",
     "text": [
      "              precision    recall  f1-score   support\n",
      "\n",
      "           0       0.81      0.89      0.85        95\n",
      "           1       0.74      0.59      0.66        49\n",
      "\n",
      "    accuracy                           0.79       144\n",
      "   macro avg       0.78      0.74      0.75       144\n",
      "weighted avg       0.79      0.79      0.79       144\n",
      "\n"
     ]
    }
   ],
   "source": [
    "print(classification_report(y_test, y_pred))"
   ]
  },
  {
   "cell_type": "markdown",
   "id": "8d178089",
   "metadata": {},
   "source": [
    "Dictionary returned if **\"output_dict\"** parameter is **True.**"
   ]
  },
  {
   "cell_type": "code",
   "execution_count": 22,
   "id": "15babb80",
   "metadata": {},
   "outputs": [
    {
     "name": "stdout",
     "output_type": "stream",
     "text": [
      "{\n",
      "   \"0\": {\n",
      "      \"precision\": 0.8095238095238095,\n",
      "      \"recall\": 0.8947368421052632,\n",
      "      \"f1-score\": 0.8500000000000001,\n",
      "      \"support\": 95\n",
      "   },\n",
      "   \"1\": {\n",
      "      \"precision\": 0.7435897435897436,\n",
      "      \"recall\": 0.5918367346938775,\n",
      "      \"f1-score\": 0.6590909090909091,\n",
      "      \"support\": 49\n",
      "   },\n",
      "   \"accuracy\": 0.7916666666666666,\n",
      "   \"macro avg\": {\n",
      "      \"precision\": 0.7765567765567766,\n",
      "      \"recall\": 0.7432867883995704,\n",
      "      \"f1-score\": 0.7545454545454546,\n",
      "      \"support\": 144\n",
      "   },\n",
      "   \"weighted avg\": {\n",
      "      \"precision\": 0.7870879120879122,\n",
      "      \"recall\": 0.7916666666666666,\n",
      "      \"f1-score\": 0.7850378787878789,\n",
      "      \"support\": 144\n",
      "   }\n",
      "}\n"
     ]
    }
   ],
   "source": [
    "import json\n",
    "print(json.dumps(classification_report(y_test, y_pred, output_dict=True), indent=3))"
   ]
  },
  {
   "cell_type": "markdown",
   "id": "b368f1ef",
   "metadata": {},
   "source": [
    "**\"labels\"** parameter can be used to reorder the labels.\n",
    "\n",
    "**\"target_names\"** parameter can be used to rename classes.\n",
    "\n",
    "**\"digits\"** parameter will be ignored when \"output_dict\" is True."
   ]
  },
  {
   "cell_type": "code",
   "execution_count": 23,
   "id": "86c7e8b1",
   "metadata": {},
   "outputs": [
    {
     "name": "stdout",
     "output_type": "stream",
     "text": [
      "                  precision    recall  f1-score   support\n",
      "\n",
      "    1 (diabetic)      0.744     0.592     0.659        49\n",
      "0 (non-diabetic)      0.810     0.895     0.850        95\n",
      "\n",
      "        accuracy                          0.792       144\n",
      "       macro avg      0.777     0.743     0.755       144\n",
      "    weighted avg      0.787     0.792     0.785       144\n",
      "\n"
     ]
    }
   ],
   "source": [
    "print(classification_report(y_test, y_pred, labels=[1,0], target_names=['1 (diabetic)','0 (non-diabetic)'], digits=3))"
   ]
  },
  {
   "cell_type": "markdown",
   "id": "fef1e9ac",
   "metadata": {},
   "source": [
    "- **macro avg** (averaging the unweighted mean per label/class)\n",
    "\n",
    "\n",
    "    - macro avg (precision) = (precision-0 + precision-1) / 2\n",
    "    \n",
    "\n",
    "- **weighted avg** (averaging the support-weighted mean per label/class)\n",
    "\n",
    "\n",
    "    - weighted avg (precision) = ( (precision-0 * support-0) + (precision-1 * support * 1) ) / all predicted values (144)"
   ]
  },
  {
   "cell_type": "markdown",
   "id": "c7093ca3",
   "metadata": {},
   "source": [
    "### yellowbrick ClassificationReport"
   ]
  },
  {
   "cell_type": "code",
   "execution_count": 24,
   "id": "4ee067d3",
   "metadata": {},
   "outputs": [
    {
     "data": {
      "image/png": "[encoded data removed]",
      "text/plain": [
       "<Figure size 720x432 with 2 Axes>"
      ]
     },
     "metadata": {},
     "output_type": "display_data"
    },
    {
     "data": {
      "text/plain": [
       "<AxesSubplot:title={'center':'LogisticRegression Classification Report'}>"
      ]
     },
     "execution_count": 24,
     "metadata": {},
     "output_type": "execute_result"
    }
   ],
   "source": [
    "from yellowbrick.classifier import ClassificationReport\n",
    "\n",
    "clf_model = Pipeline(steps=[\n",
    "      ('scaler', StandardScaler()),\n",
    "      ('clf', LogisticRegression(random_state=101))\n",
    "])\n",
    "\n",
    "viz = ClassificationReport(clf_model, support=True, cmap='Purples')\n",
    "\n",
    "viz.fit(X_train, y_train)        # Fit the visualizer and the model\n",
    "viz.score(X_test, y_test)        # Evaluate the model on the test data\n",
    "viz.show()                       # Finalize and show the figure"
   ]
  },
  {
   "cell_type": "markdown",
   "id": "2caa344a",
   "metadata": {},
   "source": [
    "***"
   ]
  },
  {
   "cell_type": "markdown",
   "id": "17c26215",
   "metadata": {},
   "source": [
    "## 4.2 ACCURACY (accuracy_score)\n",
    "<a id='part4.2'>"
   ]
  },
  {
   "cell_type": "markdown",
   "id": "b3e430fa",
   "metadata": {},
   "source": [
    "- The proportion of correct predictions ***(both true positives and true negatives)*** among the total number of cases examined. \n",
    "\n",
    "*(simply measures how often the classifier correctly predicts)*\n",
    "\n",
    "- Accuracy is useful when the target class is well balanced but is not a good choice for the unbalanced classes. Because it gives equal importance to both false positives and false negatives.\n",
    "\n",
    "\n",
    "- Accuracy = (TP + TN) / (All Predicted Values)"
   ]
  },
  {
   "cell_type": "code",
   "execution_count": 25,
   "id": "8a9d97b9",
   "metadata": {},
   "outputs": [
    {
     "name": "stdout",
     "output_type": "stream",
     "text": [
      "              precision    recall  f1-score   support\n",
      "\n",
      "           0       0.81      0.89      0.85        95\n",
      "           1       0.74      0.59      0.66        49\n",
      "\n",
      "    accuracy                           0.79       144\n",
      "   macro avg       0.78      0.74      0.75       144\n",
      "weighted avg       0.79      0.79      0.79       144\n",
      "\n"
     ]
    }
   ],
   "source": [
    "print(classification_report(y_test, y_pred))"
   ]
  },
  {
   "cell_type": "code",
   "execution_count": 26,
   "id": "27657bf0",
   "metadata": {},
   "outputs": [
    {
     "data": {
      "text/plain": [
       "0.7916666666666666"
      ]
     },
     "execution_count": 26,
     "metadata": {},
     "output_type": "execute_result"
    }
   ],
   "source": [
    "# Accuracy Formula\n",
    "(tp + tn) / y_test.shape[0] # all predicted values"
   ]
  },
  {
   "cell_type": "markdown",
   "id": "13932e5d",
   "metadata": {},
   "source": [
    "accuracy score can be calculated using confusion_matrix as:"
   ]
  },
  {
   "cell_type": "code",
   "execution_count": 27,
   "id": "10abd111",
   "metadata": {},
   "outputs": [
    {
     "data": {
      "text/plain": [
       "0.7916666666666666"
      ]
     },
     "execution_count": 27,
     "metadata": {},
     "output_type": "execute_result"
    }
   ],
   "source": [
    "# sum of diagonal values / sum of all the elements of the confusion matrix\n",
    "confusion_matrix(y_test, y_pred).trace() / confusion_matrix(y_test, y_pred).sum()"
   ]
  },
  {
   "cell_type": "code",
   "execution_count": 28,
   "id": "e33af47d",
   "metadata": {},
   "outputs": [
    {
     "name": "stdout",
     "output_type": "stream",
     "text": [
      "Accuracy Score\n",
      "------------------------------\n",
      "the fraction of correctly classified samples  :  0.79\n",
      "the number of correctly classified samples    :  114\n"
     ]
    }
   ],
   "source": [
    "print('Accuracy Score')\n",
    "print('-'*30)\n",
    "print('the fraction of correctly classified samples  : ', np.round(clf_model.score(X_test, y_test), 2))\n",
    "#print('the fraction of correctly classified samples : ', np.round(accuracy_score(y_test,y_pred), 2))\n",
    "\n",
    "print('the number of correctly classified samples    : ', np.round(accuracy_score(y_test,y_pred, normalize=False), 2))"
   ]
  },
  {
   "cell_type": "markdown",
   "id": "bbc68715",
   "metadata": {},
   "source": [
    "***"
   ]
  },
  {
   "cell_type": "markdown",
   "id": "4e558519",
   "metadata": {},
   "source": [
    "## 4.3 PRECISION (precision_score)\n",
    "<a id='part4.3'>"
   ]
  },
  {
   "cell_type": "markdown",
   "id": "4b76243b",
   "metadata": {},
   "source": [
    "- Accuracy of positive predictions. Also called **positive predictive value (PPV).**\n",
    "- The precision is the ratio ***tp / (tp + fp)*** where tp is the number of ***true positives*** and fp the number of ***false positives***. \n",
    "- The precision is intuitively the ability of the classifier not to label as positive a sample that is negative.\n",
    "- ***Precision doesnot include the number of True Negatives in its calculation, and is not effected by the imbalance!***\n",
    "- Increasing precision reduces recall and vice versa. This is called precision/recall tradeoff."
   ]
  },
  {
   "cell_type": "code",
   "execution_count": 29,
   "id": "270ee617",
   "metadata": {},
   "outputs": [
    {
     "name": "stdout",
     "output_type": "stream",
     "text": [
      "              precision    recall  f1-score   support\n",
      "\n",
      "           0       0.81      0.89      0.85        95\n",
      "           1       0.74      0.59      0.66        49\n",
      "\n",
      "    accuracy                           0.79       144\n",
      "   macro avg       0.78      0.74      0.75       144\n",
      "weighted avg       0.79      0.79      0.79       144\n",
      "\n"
     ]
    }
   ],
   "source": [
    "print(classification_report(y_test, y_pred))"
   ]
  },
  {
   "cell_type": "code",
   "execution_count": 30,
   "id": "b650498f",
   "metadata": {},
   "outputs": [
    {
     "data": {
      "text/plain": [
       "0.7435897435897436"
      ]
     },
     "execution_count": 30,
     "metadata": {},
     "output_type": "execute_result"
    }
   ],
   "source": [
    "# Precision Formula\n",
    "tp / (tp + fp)"
   ]
  },
  {
   "cell_type": "code",
   "execution_count": 31,
   "id": "d409e92b",
   "metadata": {},
   "outputs": [
    {
     "name": "stdout",
     "output_type": "stream",
     "text": [
      "Precision Score\n",
      "------------------------------\n",
      "1 label's score : 0.74\n",
      "0 label's score : 0.81\n",
      "\n",
      "macro avg\t: 0.78\n",
      "weighted avg\t: 0.79\n"
     ]
    }
   ],
   "source": [
    "print('Precision Score')\n",
    "print('-'*30)\n",
    "print(f\"1 label's score : {precision_score(y_test, y_pred):.2f}\")\n",
    "print(f\"0 label's score : {precision_score(y_test, y_pred, pos_label=0):.2f}\")\n",
    "print()\n",
    "print(f\"macro avg\\t: {precision_score(y_test, y_pred, average='macro'):.2f}\")\n",
    "print(f\"weighted avg\\t: {precision_score(y_test, y_pred, average='weighted'):.2f}\")\n",
    "\n",
    "# calculation of weighted avg precision :\n",
    "# ((precision_score(y_test, y_pred, pos_label=0) * 95) + (precision_score(y_test, y_pred) * 49)) / 144"
   ]
  },
  {
   "cell_type": "markdown",
   "id": "955b4967",
   "metadata": {},
   "source": [
    "***"
   ]
  },
  {
   "cell_type": "markdown",
   "id": "fffc7a03",
   "metadata": {},
   "source": [
    "[CONTENT](#content)"
   ]
  },
  {
   "cell_type": "markdown",
   "id": "6788913e",
   "metadata": {},
   "source": [
    "## 4.4 RECALL (recall_score) - SPECIFICITY\n",
    "<a id='part4.4'>"
   ]
  },
  {
   "cell_type": "markdown",
   "id": "19dc91dc",
   "metadata": {},
   "source": [
    "- Recall is also known as **sensitivity, hit rate or true positive rate (TPR).**\n",
    "\n",
    "*(in binary classification, recall of the positive class is also known as “sensitivity”; recall of the negative class is “specificity”.)*\n",
    "- The recall is the ratio ***tp / (tp + fn)*** where tp is the number of ***true positives*** and fn the number of ***false negatives.*** \n",
    "- The recall is intuitively the ability of the classifier to find all the positive samples. *(Fraction of positives that were correctly identified)*\n",
    "- ***It is important in medical cases where it doesn’t matter whether we raise a false alarm but the actual positive cases should not go undetected!***"
   ]
  },
  {
   "cell_type": "code",
   "execution_count": 32,
   "id": "0d5ef8d1",
   "metadata": {},
   "outputs": [
    {
     "name": "stdout",
     "output_type": "stream",
     "text": [
      "              precision    recall  f1-score   support\n",
      "\n",
      "           0       0.81      0.89      0.85        95\n",
      "           1       0.74      0.59      0.66        49\n",
      "\n",
      "    accuracy                           0.79       144\n",
      "   macro avg       0.78      0.74      0.75       144\n",
      "weighted avg       0.79      0.79      0.79       144\n",
      "\n"
     ]
    }
   ],
   "source": [
    "print(classification_report(y_test, y_pred))"
   ]
  },
  {
   "cell_type": "code",
   "execution_count": 33,
   "id": "3f3e43de",
   "metadata": {},
   "outputs": [
    {
     "data": {
      "text/plain": [
       "0.5918367346938775"
      ]
     },
     "execution_count": 33,
     "metadata": {},
     "output_type": "execute_result"
    }
   ],
   "source": [
    "# Recall Formula : TP / (TP + FN) = 1 - FNR\n",
    "tp / (tp + fn)"
   ]
  },
  {
   "cell_type": "code",
   "execution_count": 34,
   "id": "986632ad",
   "metadata": {},
   "outputs": [
    {
     "name": "stdout",
     "output_type": "stream",
     "text": [
      "Recall Score\n",
      "------------------------------\n",
      "1 label's score : 0.59\n",
      "0 label's score : 0.89 (also known as SPECIFICITY, assuming 1 tag is true positive)\n",
      "\n",
      "macro avg\t: 0.74\n",
      "weighted avg\t: 0.79\n"
     ]
    }
   ],
   "source": [
    "print('Recall Score')\n",
    "print('-'*30)\n",
    "print(f\"1 label's score : {recall_score(y_test, y_pred):.2f}\")\n",
    "print(f\"0 label's score : {recall_score(y_test, y_pred, pos_label=0):.2f} (also known as SPECIFICITY, assuming 1 tag is true positive)\")\n",
    "print()\n",
    "print(f\"macro avg\\t: {recall_score(y_test, y_pred, average='macro'):.2f}\")\n",
    "print(f\"weighted avg\\t: {recall_score(y_test, y_pred, average='weighted'):.2f}\")\n",
    "\n",
    "# calculation of weighted avg recall :\n",
    "# ((recall_score(y_test, y_pred, pos_label=0) * 95) + (recall_score(y_test, y_pred) * 49)) / 144"
   ]
  },
  {
   "cell_type": "markdown",
   "id": "3c9b02ee",
   "metadata": {},
   "source": [
    "***- Sensitivity (true positive rate)*** refers to the probability of a positive test, conditioned on truly being positive.\n",
    "\n",
    "***- Specificity (true negative rate)*** refers to the probability of a negative test, conditioned on truly being negative."
   ]
  },
  {
   "cell_type": "code",
   "execution_count": 35,
   "id": "76c00644",
   "metadata": {},
   "outputs": [
    {
     "data": {
      "text/plain": [
       "0.8947368421052632"
      ]
     },
     "execution_count": 35,
     "metadata": {},
     "output_type": "execute_result"
    }
   ],
   "source": [
    "# Specificity Formula : TN / (TN + FP) = 1 - FPR\n",
    "tn / (tn + fp)"
   ]
  },
  {
   "cell_type": "code",
   "execution_count": 36,
   "id": "fc8cfcec",
   "metadata": {},
   "outputs": [
    {
     "data": {
      "text/plain": [
       "True"
      ]
     },
     "execution_count": 36,
     "metadata": {},
     "output_type": "execute_result"
    }
   ],
   "source": [
    "tn / (tn + fp) == recall_score(y_test, y_pred, pos_label=0)"
   ]
  },
  {
   "cell_type": "markdown",
   "id": "1ddae43d",
   "metadata": {},
   "source": [
    "***"
   ]
  },
  {
   "cell_type": "markdown",
   "id": "3e979770",
   "metadata": {},
   "source": [
    "## 4.5 F Measure\n",
    "<a id='part4.5'>"
   ]
  },
  {
   "cell_type": "markdown",
   "id": "d21fdd94",
   "metadata": {},
   "source": [
    "### f1_score"
   ]
  },
  {
   "cell_type": "markdown",
   "id": "b5c777d4",
   "metadata": {},
   "source": [
    "- Also known as balanced F-score or F-measure. *(mostly used for **unbalanced** distribution)*\n",
    "\n",
    "- The F1 score can be interpreted as a harmonic mean of the precision and recall, where an F1 score reaches its best value at 1 and worst score at 0. *(We use the harmonic mean instead of a simple average because it punishes extreme values.)*\n",
    "\n",
    "- The relative contribution of precision and recall to the F1 score are **equal**. So, the F1 score is a better measure to use if you seek a balance between Precision and Recall.\n",
    "\n",
    "- It is maximum when Precision is equal to Recall.\n",
    "\n",
    "\n",
    "\n",
    "- $\\text{F1}=2 \\times \\dfrac{\\text{Precision} \\times \\text{Recall}}{\\text{Precision} + \\text{Recall}}$"
   ]
  },
  {
   "cell_type": "code",
   "execution_count": 37,
   "id": "660abfe0",
   "metadata": {},
   "outputs": [
    {
     "name": "stdout",
     "output_type": "stream",
     "text": [
      "              precision    recall  f1-score   support\n",
      "\n",
      "           0       0.81      0.89      0.85        95\n",
      "           1       0.74      0.59      0.66        49\n",
      "\n",
      "    accuracy                           0.79       144\n",
      "   macro avg       0.78      0.74      0.75       144\n",
      "weighted avg       0.79      0.79      0.79       144\n",
      "\n"
     ]
    }
   ],
   "source": [
    "print(classification_report(y_test, y_pred))"
   ]
  },
  {
   "cell_type": "code",
   "execution_count": 38,
   "id": "558d5b17",
   "metadata": {},
   "outputs": [
    {
     "data": {
      "text/plain": [
       "0.6590909090909091"
      ]
     },
     "execution_count": 38,
     "metadata": {},
     "output_type": "execute_result"
    }
   ],
   "source": [
    "# Calculation of f1 score\n",
    "precision = tp / (tp + fp)\n",
    "recall = tp / (tp + fn)\n",
    "\n",
    "F1 = 2 * (precision * recall) / (precision + recall)\n",
    "F1"
   ]
  },
  {
   "cell_type": "code",
   "execution_count": 39,
   "id": "aeb19994",
   "metadata": {},
   "outputs": [
    {
     "name": "stdout",
     "output_type": "stream",
     "text": [
      "F1 Score\n",
      "------------------------------\n",
      "1 label's score : 0.66\n",
      "0 label's score : 0.85\n",
      "\n",
      "macro avg\t: 0.75\n",
      "weighted avg\t: 0.79\n"
     ]
    }
   ],
   "source": [
    "print('F1 Score')\n",
    "print('-'*30)\n",
    "print(f\"1 label's score : {f1_score(y_test, y_pred):.2f}\")\n",
    "print(f\"0 label's score : {f1_score(y_test, y_pred, pos_label=0):.2f}\")\n",
    "print()\n",
    "print(f\"macro avg\\t: {f1_score(y_test, y_pred, average='macro'):.2f}\")\n",
    "print(f\"weighted avg\\t: {f1_score(y_test, y_pred, average='weighted'):.2f}\")\n",
    "\n",
    "# calculation of weighted avg f1 :\n",
    "# ((f1_score(y_test, y_pred, pos_label=0) * 95) + (f1_score(y_test, y_pred) * 49)) / 144"
   ]
  },
  {
   "cell_type": "markdown",
   "id": "d13c02b5",
   "metadata": {},
   "source": [
    "### fbeta_score"
   ]
  },
  {
   "cell_type": "markdown",
   "id": "e2a19554",
   "metadata": {},
   "source": [
    "- The F-beta score is the **weighted** harmonic mean of precision and recall, reaching its optimal value at 1 and its worst value at 0.\n",
    "\n",
    "- It allows you to decide how to weight the balance between precision and recall using the **beta** parameter.\n",
    "\n",
    "- It is useful when false negatives are slightly more important than false positives, or the reverse.\n",
    "\n",
    "- The beta parameter determines the weight of recall in the combined score. \"beta < 1\" lends more weight to precision, while \"beta >\" 1 favors recall.\n",
    "\n",
    "- When beta=1, the fbeta score is equivalent to the f1 score.\n",
    "\n",
    "\n",
    "- FORMULA : \n",
    "\n",
    "    - $\\text{fbeta_score} = (1 + ß²) \\times \\dfrac{\\text{Precision} \\times \\text{Recall}}{(ß² \\times \\text{Precision}) + \\text{Recall}}$\n",
    "    \n",
    "[fbeta_score](https://scikit-learn.org/stable/modules/generated/sklearn.metrics.fbeta_score.html)"
   ]
  },
  {
   "cell_type": "code",
   "execution_count": 40,
   "id": "aeec4e0c",
   "metadata": {},
   "outputs": [
    {
     "name": "stdout",
     "output_type": "stream",
     "text": [
      "F1-Measure   (1 label)  : 0.659\n",
      "F0.5-Measure (1 label)  : 0.707\n",
      "F2-Measure   (1 label)  : 0.617\n"
     ]
    }
   ],
   "source": [
    "print(f\"F1-Measure   (1 label)  : {fbeta_score(y_test, y_pred, beta=1):.3f}\")  # f1_score(y_test, y_pred)\n",
    "print(f\"F0.5-Measure (1 label)  : {fbeta_score(y_test, y_pred, beta=0.5):.3f}\")\n",
    "print(f\"F2-Measure   (1 label)  : {fbeta_score(y_test, y_pred, beta=2):.3f}\")"
   ]
  },
  {
   "cell_type": "code",
   "execution_count": 41,
   "id": "7b9be0bf",
   "metadata": {},
   "outputs": [
    {
     "data": {
      "text/plain": [
       "0.6170212765957447"
      ]
     },
     "execution_count": 41,
     "metadata": {},
     "output_type": "execute_result"
    }
   ],
   "source": [
    "# F2-Measure calculation\n",
    "\n",
    "precision = tp / (tp + fp)\n",
    "recall = tp / (tp + fn)\n",
    "beta = 2\n",
    "\n",
    "FBeta = (1 + (beta**2)) * ((precision * recall) / ((beta**2) * precision + recall)) \n",
    "FBeta"
   ]
  },
  {
   "cell_type": "markdown",
   "id": "b0a93fe7",
   "metadata": {},
   "source": [
    "***"
   ]
  },
  {
   "cell_type": "markdown",
   "id": "60066f7f",
   "metadata": {},
   "source": [
    "## 4.6 BALANCED ACCURACY SCORE (macro avg - recall)\n",
    "<a id='part4.6'>"
   ]
  },
  {
   "cell_type": "markdown",
   "id": "289f5035",
   "metadata": {},
   "source": [
    "- The balanced accuracy in binary and multiclass classification problems to deal with **imbalanced** datasets. \n",
    "\n",
    "- It is defined as the average of recall obtained on each class."
   ]
  },
  {
   "cell_type": "code",
   "execution_count": 42,
   "id": "12e1a00a",
   "metadata": {},
   "outputs": [
    {
     "name": "stdout",
     "output_type": "stream",
     "text": [
      "              precision    recall  f1-score   support\n",
      "\n",
      "           0       0.81      0.89      0.85        95\n",
      "           1       0.74      0.59      0.66        49\n",
      "\n",
      "    accuracy                           0.79       144\n",
      "   macro avg       0.78      0.74      0.75       144\n",
      "weighted avg       0.79      0.79      0.79       144\n",
      "\n"
     ]
    }
   ],
   "source": [
    "print(classification_report(y_test, y_pred))"
   ]
  },
  {
   "cell_type": "markdown",
   "id": "ebe2cafa",
   "metadata": {},
   "source": [
    "***balanced accuracy = macro avg (recall)***"
   ]
  },
  {
   "cell_type": "code",
   "execution_count": 43,
   "id": "2b628d0f",
   "metadata": {},
   "outputs": [
    {
     "data": {
      "text/plain": [
       "0.7432867883995704"
      ]
     },
     "execution_count": 43,
     "metadata": {},
     "output_type": "execute_result"
    }
   ],
   "source": [
    "balanced_accuracy_score(y_test, y_pred)"
   ]
  },
  {
   "cell_type": "code",
   "execution_count": 44,
   "id": "2ec80d07",
   "metadata": {},
   "outputs": [
    {
     "data": {
      "text/plain": [
       "True"
      ]
     },
     "execution_count": 44,
     "metadata": {},
     "output_type": "execute_result"
    }
   ],
   "source": [
    "balanced_accuracy_score(y_test, y_pred) == recall_score(y_test, y_pred, average='macro')"
   ]
  },
  {
   "cell_type": "markdown",
   "id": "f18c1f06",
   "metadata": {},
   "source": [
    "***"
   ]
  },
  {
   "cell_type": "markdown",
   "id": "e378a888",
   "metadata": {},
   "source": [
    "## <p style=\"background-color:seagreen; color:lightgray; font-size:100%; text-align:center; border-radius:20px 20px;width:950px;height:50px;line-height:50px;border-style:round;\">5. Multiclass Classification<a id='phase5'></p>"
   ]
  },
  {
   "cell_type": "markdown",
   "id": "11f6d39a",
   "metadata": {},
   "source": [
    "[CONTENT](#content)"
   ]
  },
  {
   "cell_type": "markdown",
   "id": "203f647d",
   "metadata": {},
   "source": [
    "## 5.1 Data Review\n",
    "<a id='part5.1'>"
   ]
  },
  {
   "cell_type": "code",
   "execution_count": 45,
   "id": "a75412e9",
   "metadata": {},
   "outputs": [
    {
     "name": "stdout",
     "output_type": "stream",
     "text": [
      "Dataset Shape  :  (4882, 12)\n",
      "Missing Values :  0\n"
     ]
    },
    {
     "data": {
      "text/html": [
       "<div>\n",
       "<style scoped>\n",
       "    .dataframe tbody tr th:only-of-type {\n",
       "        vertical-align: middle;\n",
       "    }\n",
       "\n",
       "    .dataframe tbody tr th {\n",
       "        vertical-align: top;\n",
       "    }\n",
       "\n",
       "    .dataframe thead th {\n",
       "        text-align: right;\n",
       "    }\n",
       "</style>\n",
       "<table border=\"1\" class=\"dataframe\">\n",
       "  <thead>\n",
       "    <tr style=\"text-align: right;\">\n",
       "      <th></th>\n",
       "      <th>fixed acidity</th>\n",
       "      <th>volatile acidity</th>\n",
       "      <th>citric acid</th>\n",
       "      <th>residual sugar</th>\n",
       "      <th>chlorides</th>\n",
       "      <th>free sulfur dioxide</th>\n",
       "      <th>total sulfur dioxide</th>\n",
       "      <th>density</th>\n",
       "      <th>pH</th>\n",
       "      <th>sulphates</th>\n",
       "      <th>alcohol</th>\n",
       "      <th>quality</th>\n",
       "    </tr>\n",
       "  </thead>\n",
       "  <tbody>\n",
       "    <tr>\n",
       "      <th>0</th>\n",
       "      <td>4.700</td>\n",
       "      <td>0.785</td>\n",
       "      <td>0.000</td>\n",
       "      <td>3.400</td>\n",
       "      <td>0.036</td>\n",
       "      <td>23.000</td>\n",
       "      <td>134.000</td>\n",
       "      <td>0.990</td>\n",
       "      <td>3.530</td>\n",
       "      <td>0.920</td>\n",
       "      <td>13.800</td>\n",
       "      <td>6</td>\n",
       "    </tr>\n",
       "    <tr>\n",
       "      <th>1</th>\n",
       "      <td>9.200</td>\n",
       "      <td>0.710</td>\n",
       "      <td>0.230</td>\n",
       "      <td>6.200</td>\n",
       "      <td>0.042</td>\n",
       "      <td>15.000</td>\n",
       "      <td>93.000</td>\n",
       "      <td>0.995</td>\n",
       "      <td>2.890</td>\n",
       "      <td>0.340</td>\n",
       "      <td>10.100</td>\n",
       "      <td>6</td>\n",
       "    </tr>\n",
       "    <tr>\n",
       "      <th>2</th>\n",
       "      <td>6.400</td>\n",
       "      <td>0.690</td>\n",
       "      <td>0.090</td>\n",
       "      <td>7.600</td>\n",
       "      <td>0.044</td>\n",
       "      <td>34.000</td>\n",
       "      <td>144.000</td>\n",
       "      <td>0.995</td>\n",
       "      <td>3.260</td>\n",
       "      <td>0.380</td>\n",
       "      <td>10.100</td>\n",
       "      <td>6</td>\n",
       "    </tr>\n",
       "    <tr>\n",
       "      <th>3</th>\n",
       "      <td>6.900</td>\n",
       "      <td>0.270</td>\n",
       "      <td>0.490</td>\n",
       "      <td>23.500</td>\n",
       "      <td>0.057</td>\n",
       "      <td>59.000</td>\n",
       "      <td>235.000</td>\n",
       "      <td>1.002</td>\n",
       "      <td>2.980</td>\n",
       "      <td>0.470</td>\n",
       "      <td>8.600</td>\n",
       "      <td>5</td>\n",
       "    </tr>\n",
       "    <tr>\n",
       "      <th>4</th>\n",
       "      <td>5.900</td>\n",
       "      <td>0.220</td>\n",
       "      <td>0.450</td>\n",
       "      <td>22.600</td>\n",
       "      <td>0.120</td>\n",
       "      <td>55.000</td>\n",
       "      <td>122.000</td>\n",
       "      <td>0.996</td>\n",
       "      <td>3.100</td>\n",
       "      <td>0.350</td>\n",
       "      <td>12.800</td>\n",
       "      <td>5</td>\n",
       "    </tr>\n",
       "  </tbody>\n",
       "</table>\n",
       "</div>"
      ],
      "text/plain": [
       "   fixed acidity  volatile acidity  citric acid  residual sugar  chlorides  \\\n",
       "0          4.700             0.785        0.000           3.400      0.036   \n",
       "1          9.200             0.710        0.230           6.200      0.042   \n",
       "2          6.400             0.690        0.090           7.600      0.044   \n",
       "3          6.900             0.270        0.490          23.500      0.057   \n",
       "4          5.900             0.220        0.450          22.600      0.120   \n",
       "\n",
       "   free sulfur dioxide  total sulfur dioxide  density    pH  sulphates  \\\n",
       "0               23.000               134.000    0.990 3.530      0.920   \n",
       "1               15.000                93.000    0.995 2.890      0.340   \n",
       "2               34.000               144.000    0.995 3.260      0.380   \n",
       "3               59.000               235.000    1.002 2.980      0.470   \n",
       "4               55.000               122.000    0.996 3.100      0.350   \n",
       "\n",
       "   alcohol  quality  \n",
       "0   13.800        6  \n",
       "1   10.100        6  \n",
       "2   10.100        6  \n",
       "3    8.600        5  \n",
       "4   12.800        5  "
      ]
     },
     "execution_count": 45,
     "metadata": {},
     "output_type": "execute_result"
    }
   ],
   "source": [
    "df = pd.read_csv(\"wine_data.csv\")\n",
    "print('Dataset Shape  : ', df.shape)\n",
    "print('Missing Values : ', df.isnull().sum().sum())\n",
    "df.head()"
   ]
  },
  {
   "cell_type": "code",
   "execution_count": 46,
   "id": "70ff7906",
   "metadata": {},
   "outputs": [
    {
     "data": {
      "text/plain": [
       "6    2194\n",
       "5    1448\n",
       "7     879\n",
       "8     175\n",
       "4     162\n",
       "3      19\n",
       "9       5\n",
       "Name: quality, dtype: int64"
      ]
     },
     "execution_count": 46,
     "metadata": {},
     "output_type": "execute_result"
    }
   ],
   "source": [
    "df.quality.value_counts()"
   ]
  },
  {
   "cell_type": "code",
   "execution_count": 47,
   "id": "091c237f",
   "metadata": {},
   "outputs": [],
   "source": [
    "df['quality'] = ['low' if x < 5 else 'medium' if x < 8 else 'high' for x in df.quality]"
   ]
  },
  {
   "cell_type": "code",
   "execution_count": 48,
   "id": "97fad22b",
   "metadata": {},
   "outputs": [
    {
     "data": {
      "text/html": [
       "<div>\n",
       "<style scoped>\n",
       "    .dataframe tbody tr th:only-of-type {\n",
       "        vertical-align: middle;\n",
       "    }\n",
       "\n",
       "    .dataframe tbody tr th {\n",
       "        vertical-align: top;\n",
       "    }\n",
       "\n",
       "    .dataframe thead th {\n",
       "        text-align: right;\n",
       "    }\n",
       "</style>\n",
       "<table border=\"1\" class=\"dataframe\">\n",
       "  <thead>\n",
       "    <tr style=\"text-align: right;\">\n",
       "      <th></th>\n",
       "      <th>fixed acidity</th>\n",
       "      <th>volatile acidity</th>\n",
       "      <th>citric acid</th>\n",
       "      <th>residual sugar</th>\n",
       "      <th>chlorides</th>\n",
       "      <th>free sulfur dioxide</th>\n",
       "      <th>total sulfur dioxide</th>\n",
       "      <th>density</th>\n",
       "      <th>pH</th>\n",
       "      <th>sulphates</th>\n",
       "      <th>alcohol</th>\n",
       "      <th>quality</th>\n",
       "    </tr>\n",
       "  </thead>\n",
       "  <tbody>\n",
       "    <tr>\n",
       "      <th>4557</th>\n",
       "      <td>7.600</td>\n",
       "      <td>0.230</td>\n",
       "      <td>0.260</td>\n",
       "      <td>15.300</td>\n",
       "      <td>0.067</td>\n",
       "      <td>32.000</td>\n",
       "      <td>166.000</td>\n",
       "      <td>0.999</td>\n",
       "      <td>3.030</td>\n",
       "      <td>0.440</td>\n",
       "      <td>9.200</td>\n",
       "      <td>low</td>\n",
       "    </tr>\n",
       "    <tr>\n",
       "      <th>393</th>\n",
       "      <td>7.200</td>\n",
       "      <td>0.390</td>\n",
       "      <td>0.630</td>\n",
       "      <td>11.000</td>\n",
       "      <td>0.044</td>\n",
       "      <td>55.000</td>\n",
       "      <td>156.000</td>\n",
       "      <td>0.997</td>\n",
       "      <td>3.090</td>\n",
       "      <td>0.440</td>\n",
       "      <td>8.700</td>\n",
       "      <td>medium</td>\n",
       "    </tr>\n",
       "    <tr>\n",
       "      <th>4850</th>\n",
       "      <td>5.800</td>\n",
       "      <td>0.290</td>\n",
       "      <td>0.050</td>\n",
       "      <td>0.800</td>\n",
       "      <td>0.038</td>\n",
       "      <td>11.000</td>\n",
       "      <td>30.000</td>\n",
       "      <td>0.992</td>\n",
       "      <td>3.360</td>\n",
       "      <td>0.350</td>\n",
       "      <td>9.200</td>\n",
       "      <td>medium</td>\n",
       "    </tr>\n",
       "    <tr>\n",
       "      <th>4230</th>\n",
       "      <td>5.600</td>\n",
       "      <td>0.200</td>\n",
       "      <td>0.220</td>\n",
       "      <td>1.300</td>\n",
       "      <td>0.049</td>\n",
       "      <td>25.000</td>\n",
       "      <td>155.000</td>\n",
       "      <td>0.993</td>\n",
       "      <td>3.740</td>\n",
       "      <td>0.430</td>\n",
       "      <td>10.000</td>\n",
       "      <td>medium</td>\n",
       "    </tr>\n",
       "    <tr>\n",
       "      <th>3640</th>\n",
       "      <td>5.900</td>\n",
       "      <td>0.190</td>\n",
       "      <td>0.210</td>\n",
       "      <td>1.700</td>\n",
       "      <td>0.045</td>\n",
       "      <td>57.000</td>\n",
       "      <td>135.000</td>\n",
       "      <td>0.993</td>\n",
       "      <td>3.320</td>\n",
       "      <td>0.440</td>\n",
       "      <td>9.500</td>\n",
       "      <td>medium</td>\n",
       "    </tr>\n",
       "  </tbody>\n",
       "</table>\n",
       "</div>"
      ],
      "text/plain": [
       "      fixed acidity  volatile acidity  citric acid  residual sugar  chlorides  \\\n",
       "4557          7.600             0.230        0.260          15.300      0.067   \n",
       "393           7.200             0.390        0.630          11.000      0.044   \n",
       "4850          5.800             0.290        0.050           0.800      0.038   \n",
       "4230          5.600             0.200        0.220           1.300      0.049   \n",
       "3640          5.900             0.190        0.210           1.700      0.045   \n",
       "\n",
       "      free sulfur dioxide  total sulfur dioxide  density    pH  sulphates  \\\n",
       "4557               32.000               166.000    0.999 3.030      0.440   \n",
       "393                55.000               156.000    0.997 3.090      0.440   \n",
       "4850               11.000                30.000    0.992 3.360      0.350   \n",
       "4230               25.000               155.000    0.993 3.740      0.430   \n",
       "3640               57.000               135.000    0.993 3.320      0.440   \n",
       "\n",
       "      alcohol quality  \n",
       "4557    9.200     low  \n",
       "393     8.700  medium  \n",
       "4850    9.200  medium  \n",
       "4230   10.000  medium  \n",
       "3640    9.500  medium  "
      ]
     },
     "execution_count": 48,
     "metadata": {},
     "output_type": "execute_result"
    }
   ],
   "source": [
    "df.sample(5, random_state=42)"
   ]
  },
  {
   "cell_type": "code",
   "execution_count": 49,
   "id": "bd4ad47f",
   "metadata": {},
   "outputs": [
    {
     "data": {
      "text/html": [
       "<div>\n",
       "<style scoped>\n",
       "    .dataframe tbody tr th:only-of-type {\n",
       "        vertical-align: middle;\n",
       "    }\n",
       "\n",
       "    .dataframe tbody tr th {\n",
       "        vertical-align: top;\n",
       "    }\n",
       "\n",
       "    .dataframe thead th {\n",
       "        text-align: right;\n",
       "    }\n",
       "</style>\n",
       "<table border=\"1\" class=\"dataframe\">\n",
       "  <thead>\n",
       "    <tr style=\"text-align: right;\">\n",
       "      <th></th>\n",
       "      <th>fixed acidity</th>\n",
       "      <th>volatile acidity</th>\n",
       "      <th>citric acid</th>\n",
       "      <th>residual sugar</th>\n",
       "      <th>chlorides</th>\n",
       "      <th>free sulfur dioxide</th>\n",
       "      <th>total sulfur dioxide</th>\n",
       "      <th>density</th>\n",
       "      <th>pH</th>\n",
       "      <th>sulphates</th>\n",
       "      <th>alcohol</th>\n",
       "    </tr>\n",
       "  </thead>\n",
       "  <tbody>\n",
       "    <tr>\n",
       "      <th>count</th>\n",
       "      <td>4882.000</td>\n",
       "      <td>4882.000</td>\n",
       "      <td>4882.000</td>\n",
       "      <td>4882.000</td>\n",
       "      <td>4882.000</td>\n",
       "      <td>4882.000</td>\n",
       "      <td>4882.000</td>\n",
       "      <td>4882.000</td>\n",
       "      <td>4882.000</td>\n",
       "      <td>4882.000</td>\n",
       "      <td>4882.000</td>\n",
       "    </tr>\n",
       "    <tr>\n",
       "      <th>mean</th>\n",
       "      <td>6.855</td>\n",
       "      <td>0.278</td>\n",
       "      <td>0.334</td>\n",
       "      <td>6.390</td>\n",
       "      <td>0.046</td>\n",
       "      <td>35.279</td>\n",
       "      <td>138.323</td>\n",
       "      <td>0.994</td>\n",
       "      <td>3.188</td>\n",
       "      <td>0.490</td>\n",
       "      <td>10.511</td>\n",
       "    </tr>\n",
       "    <tr>\n",
       "      <th>std</th>\n",
       "      <td>0.836</td>\n",
       "      <td>0.099</td>\n",
       "      <td>0.119</td>\n",
       "      <td>5.003</td>\n",
       "      <td>0.021</td>\n",
       "      <td>16.597</td>\n",
       "      <td>42.246</td>\n",
       "      <td>0.003</td>\n",
       "      <td>0.150</td>\n",
       "      <td>0.114</td>\n",
       "      <td>1.229</td>\n",
       "    </tr>\n",
       "    <tr>\n",
       "      <th>min</th>\n",
       "      <td>3.800</td>\n",
       "      <td>0.080</td>\n",
       "      <td>0.000</td>\n",
       "      <td>0.600</td>\n",
       "      <td>0.012</td>\n",
       "      <td>2.000</td>\n",
       "      <td>10.000</td>\n",
       "      <td>0.987</td>\n",
       "      <td>2.720</td>\n",
       "      <td>0.220</td>\n",
       "      <td>8.000</td>\n",
       "    </tr>\n",
       "    <tr>\n",
       "      <th>25%</th>\n",
       "      <td>6.300</td>\n",
       "      <td>0.210</td>\n",
       "      <td>0.270</td>\n",
       "      <td>1.700</td>\n",
       "      <td>0.036</td>\n",
       "      <td>23.000</td>\n",
       "      <td>108.000</td>\n",
       "      <td>0.992</td>\n",
       "      <td>3.083</td>\n",
       "      <td>0.410</td>\n",
       "      <td>9.500</td>\n",
       "    </tr>\n",
       "    <tr>\n",
       "      <th>50%</th>\n",
       "      <td>6.800</td>\n",
       "      <td>0.260</td>\n",
       "      <td>0.320</td>\n",
       "      <td>5.200</td>\n",
       "      <td>0.043</td>\n",
       "      <td>34.000</td>\n",
       "      <td>134.000</td>\n",
       "      <td>0.994</td>\n",
       "      <td>3.180</td>\n",
       "      <td>0.470</td>\n",
       "      <td>10.400</td>\n",
       "    </tr>\n",
       "    <tr>\n",
       "      <th>75%</th>\n",
       "      <td>7.300</td>\n",
       "      <td>0.320</td>\n",
       "      <td>0.390</td>\n",
       "      <td>9.900</td>\n",
       "      <td>0.050</td>\n",
       "      <td>46.000</td>\n",
       "      <td>167.000</td>\n",
       "      <td>0.996</td>\n",
       "      <td>3.280</td>\n",
       "      <td>0.550</td>\n",
       "      <td>11.400</td>\n",
       "    </tr>\n",
       "    <tr>\n",
       "      <th>max</th>\n",
       "      <td>11.800</td>\n",
       "      <td>1.005</td>\n",
       "      <td>1.230</td>\n",
       "      <td>31.600</td>\n",
       "      <td>0.290</td>\n",
       "      <td>146.500</td>\n",
       "      <td>366.500</td>\n",
       "      <td>1.010</td>\n",
       "      <td>3.820</td>\n",
       "      <td>1.010</td>\n",
       "      <td>14.200</td>\n",
       "    </tr>\n",
       "  </tbody>\n",
       "</table>\n",
       "</div>"
      ],
      "text/plain": [
       "       fixed acidity  volatile acidity  citric acid  residual sugar  \\\n",
       "count       4882.000          4882.000     4882.000        4882.000   \n",
       "mean           6.855             0.278        0.334           6.390   \n",
       "std            0.836             0.099        0.119           5.003   \n",
       "min            3.800             0.080        0.000           0.600   \n",
       "25%            6.300             0.210        0.270           1.700   \n",
       "50%            6.800             0.260        0.320           5.200   \n",
       "75%            7.300             0.320        0.390           9.900   \n",
       "max           11.800             1.005        1.230          31.600   \n",
       "\n",
       "       chlorides  free sulfur dioxide  total sulfur dioxide  density       pH  \\\n",
       "count   4882.000             4882.000              4882.000 4882.000 4882.000   \n",
       "mean       0.046               35.279               138.323    0.994    3.188   \n",
       "std        0.021               16.597                42.246    0.003    0.150   \n",
       "min        0.012                2.000                10.000    0.987    2.720   \n",
       "25%        0.036               23.000               108.000    0.992    3.083   \n",
       "50%        0.043               34.000               134.000    0.994    3.180   \n",
       "75%        0.050               46.000               167.000    0.996    3.280   \n",
       "max        0.290              146.500               366.500    1.010    3.820   \n",
       "\n",
       "       sulphates  alcohol  \n",
       "count   4882.000 4882.000  \n",
       "mean       0.490   10.511  \n",
       "std        0.114    1.229  \n",
       "min        0.220    8.000  \n",
       "25%        0.410    9.500  \n",
       "50%        0.470   10.400  \n",
       "75%        0.550   11.400  \n",
       "max        1.010   14.200  "
      ]
     },
     "execution_count": 49,
     "metadata": {},
     "output_type": "execute_result"
    }
   ],
   "source": [
    "df.describe()"
   ]
  },
  {
   "cell_type": "markdown",
   "id": "f0211fe4",
   "metadata": {},
   "source": [
    "***target label***"
   ]
  },
  {
   "cell_type": "code",
   "execution_count": 50,
   "id": "73ba5c1f",
   "metadata": {},
   "outputs": [
    {
     "data": {
      "image/png": "[encoded data removed]",
      "text/plain": [
       "<Figure size 864x360 with 2 Axes>"
      ]
     },
     "metadata": {},
     "output_type": "display_data"
    }
   ],
   "source": [
    "plt.figure(figsize=(12,5))\n",
    "\n",
    "x = df['quality'].value_counts().index\n",
    "y = df['quality'].value_counts().values\n",
    "\n",
    "plt.subplot(121)\n",
    "g = plt.bar(x, y, label='quality', color=['seagreen','#34495E', 'brown'])\n",
    "plt.bar_label(g, padding=2, size=13), plt.ylim(0, 4800)\n",
    "\n",
    "plt.xlabel('Quality'), plt.ylabel('Number of Classes') \n",
    "plt.title('Distribution of Quality', size=13)\n",
    "   \n",
    "plt.subplot(122)\n",
    "plt.pie(y, labels=x, autopct='%0.1f%%', radius=1.2, textprops={'color':'black','fontsize': 13}, \n",
    "        colors=['seagreen','#34495E', 'brown'])\n",
    "\n",
    "plt.tight_layout();"
   ]
  },
  {
   "cell_type": "markdown",
   "id": "550fdaae",
   "metadata": {},
   "source": [
    "***"
   ]
  },
  {
   "cell_type": "markdown",
   "id": "6fa4a6b4",
   "metadata": {},
   "source": [
    "## 5.2 Preprocessing and Modeling\n",
    "<a id='part5.2'>"
   ]
  },
  {
   "cell_type": "code",
   "execution_count": 51,
   "id": "01aafaf5",
   "metadata": {},
   "outputs": [],
   "source": [
    "X = df.drop([\"quality\"], axis=1)\n",
    "y = df[\"quality\"]"
   ]
  },
  {
   "cell_type": "code",
   "execution_count": 52,
   "id": "46e9b397",
   "metadata": {},
   "outputs": [],
   "source": [
    "from sklearn.model_selection import train_test_split\n",
    "X_train, X_test, y_train, y_test = train_test_split(X, y, stratify=y, test_size=0.2, random_state=42)"
   ]
  },
  {
   "cell_type": "code",
   "execution_count": 53,
   "id": "0c8ed12e",
   "metadata": {},
   "outputs": [
    {
     "name": "stdout",
     "output_type": "stream",
     "text": [
      "Train features shape :  (3905, 11)\n",
      "Test features shape  :  (977, 11)\n"
     ]
    }
   ],
   "source": [
    "print(\"Train features shape : \", X_train.shape)\n",
    "print(\"Test features shape  : \", X_test.shape)"
   ]
  },
  {
   "cell_type": "code",
   "execution_count": 54,
   "id": "e4c778f1",
   "metadata": {},
   "outputs": [
    {
     "data": {
      "text/plain": [
       "(medium    3616\n",
       " low        145\n",
       " high       144\n",
       " Name: quality, dtype: int64,\n",
       " medium    905\n",
       " low        36\n",
       " high       36\n",
       " Name: quality, dtype: int64)"
      ]
     },
     "execution_count": 54,
     "metadata": {},
     "output_type": "execute_result"
    }
   ],
   "source": [
    "y_train.value_counts(), y_test.value_counts()"
   ]
  },
  {
   "cell_type": "markdown",
   "id": "bf145f35",
   "metadata": {},
   "source": [
    "***Model Building***"
   ]
  },
  {
   "cell_type": "markdown",
   "id": "8eaebfa6",
   "metadata": {},
   "source": [
    "For the meaningful interpretation of the confusion matrix, we set higher class weights for the minority classes *(we will not take any threshold decision for now)*. Otherwise, we get 0-True Negative predictions as the data is highly imbalanced."
   ]
  },
  {
   "cell_type": "code",
   "execution_count": 55,
   "id": "cc401914",
   "metadata": {},
   "outputs": [
    {
     "data": {
      "text/plain": [
       "Pipeline(steps=[('scaler', StandardScaler()),\n",
       "                ('clf',\n",
       "                 LogisticRegression(class_weight={'high': 20, 'low': 15,\n",
       "                                                  'medium': 1},\n",
       "                                    random_state=101))])"
      ]
     },
     "execution_count": 55,
     "metadata": {},
     "output_type": "execute_result"
    }
   ],
   "source": [
    "clf_model = Pipeline(steps=[\n",
    "      ('scaler', StandardScaler()),\n",
    "      ('clf', LogisticRegression(class_weight={'high':20, 'low':15, 'medium':1}, random_state=101))\n",
    "])\n",
    "\n",
    "clf_model.fit(X_train, y_train)"
   ]
  },
  {
   "cell_type": "code",
   "execution_count": 56,
   "id": "8742bcbd",
   "metadata": {},
   "outputs": [],
   "source": [
    "y_pred = clf_model.predict(X_test)"
   ]
  },
  {
   "cell_type": "markdown",
   "id": "ce79e634",
   "metadata": {},
   "source": [
    "***"
   ]
  },
  {
   "cell_type": "markdown",
   "id": "561ce038",
   "metadata": {},
   "source": [
    "## 5.3 Multilabel Confusion Matrix\n",
    "<a id='part5.3'>"
   ]
  },
  {
   "cell_type": "markdown",
   "id": "8053581f",
   "metadata": {},
   "source": [
    "[CONTENT](#content)"
   ]
  },
  {
   "cell_type": "markdown",
   "id": "8ccf9970",
   "metadata": {},
   "source": [
    "- Cells outside the row and column for the positive class contain the True Negatives. \n",
    "\n",
    "- An incorrect prediction inside the negative class is considered as a true negative."
   ]
  },
  {
   "attachments": {
    "confusionmatrix_multiclass.png": {
     "image/png": "[encoded data removed]"
    }
   },
   "cell_type": "markdown",
   "id": "21244ad3",
   "metadata": {},
   "source": [
    "![confusionmatrix_multiclass.png](attachment:confusionmatrix_multiclass.png)"
   ]
  },
  {
   "cell_type": "markdown",
   "id": "c7c90142",
   "metadata": {},
   "source": [
    "*(based on bird class)*"
   ]
  },
  {
   "cell_type": "markdown",
   "id": "29de8554",
   "metadata": {},
   "source": [
    "### sklearn.metrics.confusion_matrix"
   ]
  },
  {
   "cell_type": "code",
   "execution_count": 57,
   "id": "cb139c71",
   "metadata": {},
   "outputs": [
    {
     "data": {
      "text/plain": [
       "array([[ 23,   3,  10],\n",
       "       [  2,  18,  16],\n",
       "       [203, 112, 590]], dtype=int64)"
      ]
     },
     "execution_count": 57,
     "metadata": {},
     "output_type": "execute_result"
    }
   ],
   "source": [
    "# Confusion Matrix of our model\n",
    "confusion_matrix(y_test, y_pred)"
   ]
  },
  {
   "cell_type": "markdown",
   "id": "6b87bec0",
   "metadata": {},
   "source": [
    "**\"labels\"** parameter may be used to reorder or select a subset of labels/classes.\n",
    "\n",
    "*(labels/classes that appear at least once in y_true or y_pred are used in sorted order by default)*"
   ]
  },
  {
   "cell_type": "code",
   "execution_count": 58,
   "id": "fe054454",
   "metadata": {},
   "outputs": [
    {
     "data": {
      "text/plain": [
       "array([[590, 203, 112],\n",
       "       [ 10,  23,   3],\n",
       "       [ 16,   2,  18]], dtype=int64)"
      ]
     },
     "execution_count": 58,
     "metadata": {},
     "output_type": "execute_result"
    }
   ],
   "source": [
    "# reordering of classes\n",
    "confusion_matrix(y_test, y_pred, labels=['medium','high','low'])"
   ]
  },
  {
   "cell_type": "markdown",
   "id": "9833c090",
   "metadata": {},
   "source": [
    "### sklearn.metrics.multilabel_confusion_matrix\n",
    "\n",
    "- Compute a confusion matrix for each class or sample.\n",
    "\n",
    "\n",
    "- Multiclass data will be treated as if binarized under a one-vs-rest transformation. Returned confusion matrices will be in the order of sorted unique labels in the union of (y_true, y_pred).\n",
    "\n",
    "\n",
    "- In multilabel confusion matrix ***(MCM)*** , the count of true negatives is ***MCM(0,0)***, false negatives is ***MCM(1,0)***, true positives is ***MCM(1,1)*** and false positives is ***MCM(0,1)***.\n",
    "\n",
    "\n",
    "Notes\n",
    "\n",
    "The multilabel_confusion_matrix calculates class-wise or sample-wise multilabel confusion matrices, and in multiclass tasks, labels are binarized under a one-vs-rest way; while confusion_matrix calculates one confusion matrix for confusion between every two classes.\n",
    "\n",
    "\n",
    "SOURCE : [sklearn.metrics.multilabel_confusion_matrix](https://scikit-learn.org/stable/modules/generated/sklearn.metrics.multilabel_confusion_matrix.html#sklearn.metrics.multilabel_confusion_matrix)"
   ]
  },
  {
   "cell_type": "code",
   "execution_count": 59,
   "id": "679fd6da",
   "metadata": {},
   "outputs": [
    {
     "data": {
      "text/plain": [
       "array([[[736, 205],\n",
       "        [ 13,  23]],\n",
       "\n",
       "       [[826, 115],\n",
       "        [ 18,  18]],\n",
       "\n",
       "       [[ 46,  26],\n",
       "        [315, 590]]], dtype=int64)"
      ]
     },
     "execution_count": 59,
     "metadata": {},
     "output_type": "execute_result"
    }
   ],
   "source": [
    "from sklearn.metrics import multilabel_confusion_matrix\n",
    "multilabel_confusion_matrix(y_test, y_pred)\n",
    "\n",
    "# default order ===> high, low, medium"
   ]
  },
  {
   "cell_type": "markdown",
   "id": "7bccbc22",
   "metadata": {},
   "source": [
    "***"
   ]
  },
  {
   "cell_type": "markdown",
   "id": "cd5650db",
   "metadata": {},
   "source": [
    "## 5.4 Confusion Matrix Visualization\n",
    "<a id='part5.4'>"
   ]
  },
  {
   "cell_type": "markdown",
   "id": "038820c5",
   "metadata": {},
   "source": [
    "[CONTENT](#content)"
   ]
  },
  {
   "cell_type": "code",
   "execution_count": 60,
   "id": "1a603379",
   "metadata": {},
   "outputs": [
    {
     "data": {
      "image/png": "[encoded data removed]",
      "text/plain": [
       "<Figure size 720x432 with 2 Axes>"
      ]
     },
     "metadata": {},
     "output_type": "display_data"
    }
   ],
   "source": [
    "ConfusionMatrixDisplay.from_predictions(y_test, y_pred, cmap='flare')\n",
    "# ConfusionMatrixDisplay.from_estimator(clf_model, X_test, y_test)\n",
    "# plot_confusion_matrix(clf_model, X_test, y_test)\n",
    "plt.grid(None);"
   ]
  },
  {
   "cell_type": "markdown",
   "id": "cf139bd8",
   "metadata": {},
   "source": [
    "**\"labels\"** parameter can be used to reorder or select a subset of classes."
   ]
  },
  {
   "cell_type": "code",
   "execution_count": 61,
   "id": "e2d4b083",
   "metadata": {},
   "outputs": [
    {
     "data": {
      "image/png": "[encoded data removed]",
      "text/plain": [
       "<Figure size 720x432 with 2 Axes>"
      ]
     },
     "metadata": {},
     "output_type": "display_data"
    }
   ],
   "source": [
    "ConfusionMatrixDisplay.from_predictions(y_test, y_pred, labels=['medium','high','low'], cmap='flare')\n",
    "plt.grid(None);"
   ]
  },
  {
   "cell_type": "markdown",
   "id": "868cf029",
   "metadata": {},
   "source": [
    "***seaborn heatmap***"
   ]
  },
  {
   "cell_type": "markdown",
   "id": "8a037ba4",
   "metadata": {},
   "source": [
    "<code style=\"background:purple;color:white\">assuming we are interested in high quality wines</code>"
   ]
  },
  {
   "cell_type": "code",
   "execution_count": 62,
   "id": "bfec7c83",
   "metadata": {},
   "outputs": [
    {
     "data": {
      "image/png": "[encoded data removed]",
      "text/plain": [
       "<Figure size 864x432 with 1 Axes>"
      ]
     },
     "metadata": {},
     "output_type": "display_data"
    }
   ],
   "source": [
    "plt.figure(figsize=(12,6))\n",
    "\n",
    "y_pred = clf_model.predict(X_test)\n",
    "clf_matrix = confusion_matrix(y_test, y_pred)\n",
    "\n",
    "condition_names = ['True Positives (TP)', 'False Negatives (FN)\\n(Type II Error)', 'False Negatives (FN)\\n(Type II Error)', \n",
    "                   'False Positives (FP)\\n(Type I Error)', 'True Negatives (TN)', 'True Negatives (TN)',\n",
    "                   'False Positives (FP)\\n(Type I Error)', 'True Negatives (TN)', 'True Negatives (TN)']\n",
    "\n",
    "condition_values = [value for value in clf_matrix.flatten()]\n",
    "\n",
    "labels = [f'{v1}\\n{v2}' for v1, v2 in zip(condition_names, condition_values)]\n",
    "labels = np.asarray(labels).reshape(3, 3)\n",
    "\n",
    "ax = sns.heatmap(clf_matrix, annot=labels, fmt=\"\", annot_kws={'size': 13}, cmap='viridis', linewidth=1, cbar=False)\n",
    "ax.set(xlabel='Predicted Class', ylabel = 'Actual Class', \n",
    "       xticklabels=['high','low','medium'], yticklabels=['high','low','medium']);"
   ]
  },
  {
   "cell_type": "markdown",
   "id": "be170c5f",
   "metadata": {},
   "source": [
    "***"
   ]
  },
  {
   "cell_type": "markdown",
   "id": "d3a0fa54",
   "metadata": {},
   "source": [
    "## 5.5 Main Classification Metrics\n",
    "<a id='part5.5'>"
   ]
  },
  {
   "cell_type": "markdown",
   "id": "87c11152",
   "metadata": {},
   "source": [
    "[CONTENT](#content)"
   ]
  },
  {
   "cell_type": "markdown",
   "id": "f374f177",
   "metadata": {},
   "source": [
    "### 5.5.1 sklearn.metrics.classification_report\n",
    "<a id='part5.5.1'>"
   ]
  },
  {
   "cell_type": "code",
   "execution_count": 63,
   "id": "c86507dd",
   "metadata": {},
   "outputs": [
    {
     "name": "stdout",
     "output_type": "stream",
     "text": [
      "              precision    recall  f1-score   support\n",
      "\n",
      "        high       0.10      0.64      0.17        36\n",
      "         low       0.14      0.50      0.21        36\n",
      "      medium       0.96      0.65      0.78       905\n",
      "\n",
      "    accuracy                           0.65       977\n",
      "   macro avg       0.40      0.60      0.39       977\n",
      "weighted avg       0.90      0.65      0.73       977\n",
      "\n"
     ]
    }
   ],
   "source": [
    "print(classification_report(y_test, y_pred))"
   ]
  },
  {
   "cell_type": "markdown",
   "id": "c8eaf91b",
   "metadata": {},
   "source": [
    "- **macro avg** (averaging the unweighted mean per label/class)\n",
    "\n",
    "    \n",
    "    - macro avg (precision) = (precision-high + precision-low + precision-medium) / 3\n",
    "    \n",
    "\n",
    "- **weighted avg** (averaging the support-weighted mean per label/class)\n",
    "\n",
    "\n",
    "    - weighted avg (precision) = ( (precision-high * support-high) + (precision-low * support-low) + (precision-medium * support-medium)) / all predicted values (977)\n",
    "    \n",
    " \n",
    "- **micro avg** (averaging the total true positives, false negatives and false positives)\n",
    "\n",
    "  *(micro avg is only shown for multi-label or multi-class with a subset of classes, because it corresponds to accuracy otherwise and would be the same for all metrics.)*"
   ]
  },
  {
   "cell_type": "markdown",
   "id": "9ac8f3f8",
   "metadata": {},
   "source": [
    "### 5.5.2 micro average scores\n",
    "<a id='part5.5.2'>"
   ]
  },
  {
   "cell_type": "code",
   "execution_count": 64,
   "id": "3dd527d9",
   "metadata": {},
   "outputs": [
    {
     "name": "stdout",
     "output_type": "stream",
     "text": [
      "              precision    recall  f1-score   support\n",
      "\n",
      "      medium       0.96      0.65      0.78       905\n",
      "         low       0.14      0.50      0.21        36\n",
      "\n",
      "   micro avg       0.81      0.65      0.72       941\n",
      "   macro avg       0.55      0.58      0.49       941\n",
      "weighted avg       0.93      0.65      0.75       941\n",
      "\n"
     ]
    }
   ],
   "source": [
    "# micro averages of \"medium\" and \"low\" classes\n",
    "print(classification_report(y_test, y_pred, labels=['medium','low'], digits=2))"
   ]
  },
  {
   "cell_type": "code",
   "execution_count": 65,
   "id": "bc45290d",
   "metadata": {},
   "outputs": [
    {
     "data": {
      "text/plain": [
       "0.8117489986648865"
      ]
     },
     "execution_count": 65,
     "metadata": {},
     "output_type": "execute_result"
    }
   ],
   "source": [
    "precision_score(y_test, y_pred, average='micro', labels=['medium','low'])"
   ]
  },
  {
   "cell_type": "markdown",
   "id": "879d1724",
   "metadata": {},
   "source": [
    "*TP (medium), TP (low) = (590), (18)*\n",
    "\n",
    "*FP (medium) = 10 + 16*\n",
    "\n",
    "*FP (low) = 112 + 3*\n",
    "\n",
    "\n",
    "*micro avg (precision) = (590 + 18) / (590 + 18) + (26 + 115)*"
   ]
  },
  {
   "cell_type": "code",
   "execution_count": 66,
   "id": "0f6ddd4b",
   "metadata": {},
   "outputs": [
    {
     "name": "stdout",
     "output_type": "stream",
     "text": [
      "              precision    recall  f1-score   support\n",
      "\n",
      "        high       0.10      0.64      0.17        36\n",
      "      medium       0.96      0.65      0.78       905\n",
      "\n",
      "   micro avg       0.73      0.65      0.69       941\n",
      "   macro avg       0.53      0.65      0.48       941\n",
      "weighted avg       0.93      0.65      0.75       941\n",
      "\n"
     ]
    }
   ],
   "source": [
    "# micro averages of \"high\" and \"medium\" classes\n",
    "print(classification_report(y_test, y_pred, labels=['high','medium'], digits=2))"
   ]
  },
  {
   "cell_type": "code",
   "execution_count": 67,
   "id": "fdb8bc3f",
   "metadata": {},
   "outputs": [
    {
     "data": {
      "text/plain": [
       "0.726303317535545"
      ]
     },
     "execution_count": 67,
     "metadata": {},
     "output_type": "execute_result"
    }
   ],
   "source": [
    "precision_score(y_test, y_pred, average='micro', labels=['high','medium'])"
   ]
  },
  {
   "cell_type": "markdown",
   "id": "2afe3e69",
   "metadata": {},
   "source": [
    "*TP (high), TP (medium) = (23), (590)*\n",
    "\n",
    "*FN (high) = 10 + 3*\n",
    "\n",
    "*FN (medium) = 203 + 112*\n",
    "\n",
    "\n",
    "*micro avg (recall) = (590 + 23) / (590 + 23) + (13 + 315)*"
   ]
  },
  {
   "cell_type": "markdown",
   "id": "5051e9ae",
   "metadata": {},
   "source": [
    "### 5.5.3 accuracy, precision, recall, and f1 scores\n",
    "<a id='part5.5.3'>"
   ]
  },
  {
   "cell_type": "code",
   "execution_count": 68,
   "id": "77ceeeb5",
   "metadata": {},
   "outputs": [
    {
     "name": "stdout",
     "output_type": "stream",
     "text": [
      "              precision    recall  f1-score   support\n",
      "\n",
      "        high       0.10      0.64      0.17        36\n",
      "         low       0.14      0.50      0.21        36\n",
      "      medium       0.96      0.65      0.78       905\n",
      "\n",
      "    accuracy                           0.65       977\n",
      "   macro avg       0.40      0.60      0.39       977\n",
      "weighted avg       0.90      0.65      0.73       977\n",
      "\n"
     ]
    }
   ],
   "source": [
    "print(classification_report(y_test, y_pred))"
   ]
  },
  {
   "cell_type": "markdown",
   "id": "6befebf6",
   "metadata": {},
   "source": [
    "accuracy score"
   ]
  },
  {
   "cell_type": "code",
   "execution_count": 69,
   "id": "16c850bb",
   "metadata": {},
   "outputs": [
    {
     "name": "stdout",
     "output_type": "stream",
     "text": [
      "Accuracy Score\n",
      "------------------------------\n",
      "the fraction of correctly classified samples  :  0.65\n",
      "the number of correctly classified samples    :  631\n"
     ]
    }
   ],
   "source": [
    "print('Accuracy Score')\n",
    "print('-'*30)\n",
    "print('the fraction of correctly classified samples  : ', np.round(clf_model.score(X_test, y_test), 2))\n",
    "#print('the fraction of correctly classified samples : ', np.round(accuracy_score(y_test,y_pred), 2))\n",
    "\n",
    "print('the number of correctly classified samples    : ', np.round(accuracy_score(y_test,y_pred, normalize=False), 2))"
   ]
  },
  {
   "cell_type": "code",
   "execution_count": 70,
   "id": "eae72b29",
   "metadata": {},
   "outputs": [
    {
     "data": {
      "text/plain": [
       "0.6458546571136131"
      ]
     },
     "execution_count": 70,
     "metadata": {},
     "output_type": "execute_result"
    }
   ],
   "source": [
    "# Accuracy Formula\n",
    "(23 + 18 + 590) / y_test.shape[0] # all predicted values"
   ]
  },
  {
   "cell_type": "markdown",
   "id": "3df24738",
   "metadata": {},
   "source": [
    "precision, recall and f1 scores"
   ]
  },
  {
   "cell_type": "code",
   "execution_count": 71,
   "id": "1f9dfcc6",
   "metadata": {},
   "outputs": [
    {
     "name": "stdout",
     "output_type": "stream",
     "text": [
      "precision scores : [0.10087719 0.13533835 0.95779221]\n",
      "recall scores    : [0.63888889 0.5        0.6519337 ]\n",
      "f1 scores        : [0.17424242 0.21301775 0.77580539]\n"
     ]
    }
   ],
   "source": [
    "# all classes\n",
    "\n",
    "print('precision scores :', precision_score(y_test, y_pred, average=None))\n",
    "print('recall scores    :', recall_score(y_test, y_pred, average=None))\n",
    "print('f1 scores        :', f1_score(y_test, y_pred, average=None))"
   ]
  },
  {
   "cell_type": "code",
   "execution_count": 72,
   "id": "dbc83850",
   "metadata": {},
   "outputs": [
    {
     "data": {
      "text/plain": [
       "array([0.95779221])"
      ]
     },
     "execution_count": 72,
     "metadata": {},
     "output_type": "execute_result"
    }
   ],
   "source": [
    "# an example of a specific class\n",
    "precision_score(y_test, y_pred, average=None, labels=['medium'])"
   ]
  },
  {
   "cell_type": "code",
   "execution_count": 73,
   "id": "41c5b8fa",
   "metadata": {},
   "outputs": [
    {
     "data": {
      "text/plain": [
       "0.6454112952731736"
      ]
     },
     "execution_count": 73,
     "metadata": {},
     "output_type": "execute_result"
    }
   ],
   "source": [
    "# an example of macro average score for two classes\n",
    "recall_score(y_test, y_pred, average='macro', labels=['high', 'medium'])"
   ]
  },
  {
   "cell_type": "code",
   "execution_count": 74,
   "id": "c223842a",
   "metadata": {},
   "outputs": [
    {
     "data": {
      "text/plain": [
       "0.732901991149373"
      ]
     },
     "execution_count": 74,
     "metadata": {},
     "output_type": "execute_result"
    }
   ],
   "source": [
    "# an example of weighted average\n",
    "f1_score(y_test, y_pred, average='weighted')"
   ]
  },
  {
   "cell_type": "markdown",
   "id": "dd08f8b4",
   "metadata": {},
   "source": [
    "### 5.5.4 sklearn.metrics.precision_recall_fscore_support\n",
    "<a id='part5.5.4'>   "
   ]
  },
  {
   "cell_type": "markdown",
   "id": "0a900371",
   "metadata": {},
   "source": [
    "Compute precision, recall, F-measure and support for each class."
   ]
  },
  {
   "cell_type": "code",
   "execution_count": 75,
   "id": "706e8869",
   "metadata": {},
   "outputs": [
    {
     "data": {
      "text/plain": [
       "(array([0.10087719, 0.13533835, 0.95779221]),\n",
       " array([0.63888889, 0.5       , 0.6519337 ]),\n",
       " array([0.17424242, 0.21301775, 0.77580539]),\n",
       " array([ 36,  36, 905], dtype=int64))"
      ]
     },
     "execution_count": 75,
     "metadata": {},
     "output_type": "execute_result"
    }
   ],
   "source": [
    "from sklearn.metrics import precision_recall_fscore_support\n",
    "precision_recall_fscore_support(y_test, y_pred)"
   ]
  },
  {
   "cell_type": "code",
   "execution_count": 76,
   "id": "c16e1435",
   "metadata": {},
   "outputs": [
    {
     "data": {
      "text/plain": [
       "(0.3980025822131085, 0.5969408635154491, 0.3876885223039069, None)"
      ]
     },
     "execution_count": 76,
     "metadata": {},
     "output_type": "execute_result"
    }
   ],
   "source": [
    "# macro avg scores\n",
    "precision_recall_fscore_support(y_test, y_pred, average='macro')"
   ]
  },
  {
   "cell_type": "code",
   "execution_count": 77,
   "id": "2258bcb9",
   "metadata": {},
   "outputs": [
    {
     "data": {
      "text/plain": [
       "0.9250090616358304"
      ]
     },
     "execution_count": 77,
     "metadata": {},
     "output_type": "execute_result"
    }
   ],
   "source": [
    "precision_score(y_test, y_pred, average='weighted', labels=['high','medium'])"
   ]
  },
  {
   "cell_type": "markdown",
   "id": "20b7683d",
   "metadata": {},
   "source": [
    "***"
   ]
  },
  {
   "cell_type": "markdown",
   "id": "75250026",
   "metadata": {},
   "source": [
    "## 5.6 Cross-Validation For Multiclass Classification\n",
    "<a id='part5.6'> "
   ]
  },
  {
   "cell_type": "markdown",
   "id": "ff238b3d",
   "metadata": {},
   "source": [
    "[CONTENT](#content)"
   ]
  },
  {
   "cell_type": "markdown",
   "id": "3fd91b29",
   "metadata": {},
   "source": [
    "*(using joint scoring metrics)*"
   ]
  },
  {
   "cell_type": "code",
   "execution_count": 78,
   "id": "e47b4174",
   "metadata": {},
   "outputs": [],
   "source": [
    "from sklearn.model_selection import cross_validate\n",
    "from sklearn.metrics import make_scorer"
   ]
  },
  {
   "cell_type": "markdown",
   "id": "06719e34",
   "metadata": {},
   "source": [
    "We should prefer StratifiedKFold over KFold when dealing with classification tasks with imbalanced class distributions."
   ]
  },
  {
   "cell_type": "markdown",
   "id": "780e1798",
   "metadata": {},
   "source": [
    "### 5.6.1 cross-validation for all classes\n",
    "<a id='part5.6.1'> "
   ]
  },
  {
   "cell_type": "markdown",
   "id": "cd8c8fc8",
   "metadata": {},
   "source": [
    "<code style=\"background:yellow;color:black\">\"cv\" parameter : For int/None inputs, if the estimator is a classifier and y is either binary or multiclass, StratifiedKFold is used. In all other cases, KFold is used. These splitters are instantiated with \"shuffle=False\" so the splits will be the same across calls. default cv=None, to use the default 5-fold cross validation</code>"
   ]
  },
  {
   "cell_type": "code",
   "execution_count": 79,
   "id": "ac0d265c",
   "metadata": {},
   "outputs": [
    {
     "name": "stdout",
     "output_type": "stream",
     "text": [
      "Average Performance\n",
      "\n",
      "test_accuracy             0.629\n",
      "test_precision_weighted   0.896\n",
      "test_recall_weighted      0.629\n",
      "test_f1_weighted          0.719\n",
      "dtype: float64\n"
     ]
    },
    {
     "data": {
      "text/html": [
       "<div>\n",
       "<style scoped>\n",
       "    .dataframe tbody tr th:only-of-type {\n",
       "        vertical-align: middle;\n",
       "    }\n",
       "\n",
       "    .dataframe tbody tr th {\n",
       "        vertical-align: top;\n",
       "    }\n",
       "\n",
       "    .dataframe thead th {\n",
       "        text-align: right;\n",
       "    }\n",
       "</style>\n",
       "<table border=\"1\" class=\"dataframe\">\n",
       "  <thead>\n",
       "    <tr style=\"text-align: right;\">\n",
       "      <th></th>\n",
       "      <th>fit_time</th>\n",
       "      <th>score_time</th>\n",
       "      <th>test_accuracy</th>\n",
       "      <th>test_precision_weighted</th>\n",
       "      <th>test_recall_weighted</th>\n",
       "      <th>test_f1_weighted</th>\n",
       "    </tr>\n",
       "  </thead>\n",
       "  <tbody>\n",
       "    <tr>\n",
       "      <th>1</th>\n",
       "      <td>0.113</td>\n",
       "      <td>0.019</td>\n",
       "      <td>0.653</td>\n",
       "      <td>0.888</td>\n",
       "      <td>0.653</td>\n",
       "      <td>0.737</td>\n",
       "    </tr>\n",
       "    <tr>\n",
       "      <th>2</th>\n",
       "      <td>0.145</td>\n",
       "      <td>0.025</td>\n",
       "      <td>0.607</td>\n",
       "      <td>0.894</td>\n",
       "      <td>0.607</td>\n",
       "      <td>0.703</td>\n",
       "    </tr>\n",
       "    <tr>\n",
       "      <th>3</th>\n",
       "      <td>0.128</td>\n",
       "      <td>0.033</td>\n",
       "      <td>0.630</td>\n",
       "      <td>0.900</td>\n",
       "      <td>0.630</td>\n",
       "      <td>0.720</td>\n",
       "    </tr>\n",
       "    <tr>\n",
       "      <th>4</th>\n",
       "      <td>0.121</td>\n",
       "      <td>0.032</td>\n",
       "      <td>0.589</td>\n",
       "      <td>0.888</td>\n",
       "      <td>0.589</td>\n",
       "      <td>0.688</td>\n",
       "    </tr>\n",
       "    <tr>\n",
       "      <th>5</th>\n",
       "      <td>0.126</td>\n",
       "      <td>0.032</td>\n",
       "      <td>0.665</td>\n",
       "      <td>0.910</td>\n",
       "      <td>0.665</td>\n",
       "      <td>0.748</td>\n",
       "    </tr>\n",
       "  </tbody>\n",
       "</table>\n",
       "</div>"
      ],
      "text/plain": [
       "   fit_time  score_time  test_accuracy  test_precision_weighted  \\\n",
       "1     0.113       0.019          0.653                    0.888   \n",
       "2     0.145       0.025          0.607                    0.894   \n",
       "3     0.128       0.033          0.630                    0.900   \n",
       "4     0.121       0.032          0.589                    0.888   \n",
       "5     0.126       0.032          0.665                    0.910   \n",
       "\n",
       "   test_recall_weighted  test_f1_weighted  \n",
       "1                 0.653             0.737  \n",
       "2                 0.607             0.703  \n",
       "3                 0.630             0.720  \n",
       "4                 0.589             0.688  \n",
       "5                 0.665             0.748  "
      ]
     },
     "execution_count": 79,
     "metadata": {},
     "output_type": "execute_result"
    }
   ],
   "source": [
    "model = Pipeline(steps=[\n",
    "      ('scaler', StandardScaler()),\n",
    "      ('clf', LogisticRegression(class_weight={'high':20, 'low':15, 'medium':1}, random_state=101))\n",
    "])\n",
    "\n",
    "scores = cross_validate(model, X_train, y_train, scoring=['accuracy', 'precision_weighted','recall_weighted',\n",
    "                                                          'f1_weighted'], cv=5, n_jobs=-1)\n",
    "df_scores = pd.DataFrame(scores, index=range(1, 6))\n",
    "print('Average Performance\\n', df_scores.mean()[2:], sep='\\n')\n",
    "\n",
    "df_scores"
   ]
  },
  {
   "cell_type": "markdown",
   "id": "0ba1d14e",
   "metadata": {},
   "source": [
    "we will get the same results using StratifiedKFold explicitly"
   ]
  },
  {
   "cell_type": "code",
   "execution_count": 80,
   "id": "0b73b9e4",
   "metadata": {},
   "outputs": [
    {
     "name": "stdout",
     "output_type": "stream",
     "text": [
      "Average Performance\n",
      "\n",
      "test_accuracy             0.629\n",
      "test_precision_weighted   0.896\n",
      "test_recall_weighted      0.629\n",
      "test_f1_weighted          0.719\n",
      "dtype: float64\n"
     ]
    },
    {
     "data": {
      "text/html": [
       "<div>\n",
       "<style scoped>\n",
       "    .dataframe tbody tr th:only-of-type {\n",
       "        vertical-align: middle;\n",
       "    }\n",
       "\n",
       "    .dataframe tbody tr th {\n",
       "        vertical-align: top;\n",
       "    }\n",
       "\n",
       "    .dataframe thead th {\n",
       "        text-align: right;\n",
       "    }\n",
       "</style>\n",
       "<table border=\"1\" class=\"dataframe\">\n",
       "  <thead>\n",
       "    <tr style=\"text-align: right;\">\n",
       "      <th></th>\n",
       "      <th>fit_time</th>\n",
       "      <th>score_time</th>\n",
       "      <th>test_accuracy</th>\n",
       "      <th>test_precision_weighted</th>\n",
       "      <th>test_recall_weighted</th>\n",
       "      <th>test_f1_weighted</th>\n",
       "    </tr>\n",
       "  </thead>\n",
       "  <tbody>\n",
       "    <tr>\n",
       "      <th>1</th>\n",
       "      <td>0.101</td>\n",
       "      <td>0.028</td>\n",
       "      <td>0.653</td>\n",
       "      <td>0.888</td>\n",
       "      <td>0.653</td>\n",
       "      <td>0.737</td>\n",
       "    </tr>\n",
       "    <tr>\n",
       "      <th>2</th>\n",
       "      <td>0.125</td>\n",
       "      <td>0.019</td>\n",
       "      <td>0.607</td>\n",
       "      <td>0.894</td>\n",
       "      <td>0.607</td>\n",
       "      <td>0.703</td>\n",
       "    </tr>\n",
       "    <tr>\n",
       "      <th>3</th>\n",
       "      <td>0.103</td>\n",
       "      <td>0.020</td>\n",
       "      <td>0.630</td>\n",
       "      <td>0.900</td>\n",
       "      <td>0.630</td>\n",
       "      <td>0.720</td>\n",
       "    </tr>\n",
       "    <tr>\n",
       "      <th>4</th>\n",
       "      <td>0.161</td>\n",
       "      <td>0.038</td>\n",
       "      <td>0.589</td>\n",
       "      <td>0.888</td>\n",
       "      <td>0.589</td>\n",
       "      <td>0.688</td>\n",
       "    </tr>\n",
       "    <tr>\n",
       "      <th>5</th>\n",
       "      <td>0.159</td>\n",
       "      <td>0.037</td>\n",
       "      <td>0.665</td>\n",
       "      <td>0.910</td>\n",
       "      <td>0.665</td>\n",
       "      <td>0.748</td>\n",
       "    </tr>\n",
       "  </tbody>\n",
       "</table>\n",
       "</div>"
      ],
      "text/plain": [
       "   fit_time  score_time  test_accuracy  test_precision_weighted  \\\n",
       "1     0.101       0.028          0.653                    0.888   \n",
       "2     0.125       0.019          0.607                    0.894   \n",
       "3     0.103       0.020          0.630                    0.900   \n",
       "4     0.161       0.038          0.589                    0.888   \n",
       "5     0.159       0.037          0.665                    0.910   \n",
       "\n",
       "   test_recall_weighted  test_f1_weighted  \n",
       "1                 0.653             0.737  \n",
       "2                 0.607             0.703  \n",
       "3                 0.630             0.720  \n",
       "4                 0.589             0.688  \n",
       "5                 0.665             0.748  "
      ]
     },
     "execution_count": 80,
     "metadata": {},
     "output_type": "execute_result"
    }
   ],
   "source": [
    "from sklearn.model_selection import StratifiedKFold\n",
    "\n",
    "model = Pipeline(steps=[\n",
    "      ('scaler', StandardScaler()),\n",
    "      ('clf', LogisticRegression(class_weight={'high':20, 'low':15, 'medium':1}, random_state=101))\n",
    "])\n",
    "\n",
    "skf = StratifiedKFold(n_splits=5, shuffle=False)\n",
    "\n",
    "scores = cross_validate(model, X_train, y_train, scoring=['accuracy', 'precision_weighted','recall_weighted',\n",
    "                                                          'f1_weighted'], cv=skf, n_jobs=-1)\n",
    "df_scores = pd.DataFrame(scores, index=range(1, 6))\n",
    "print('Average Performance\\n', df_scores.mean()[2:], sep='\\n')\n",
    "\n",
    "df_scores"
   ]
  },
  {
   "cell_type": "markdown",
   "id": "02813267",
   "metadata": {},
   "source": [
    "### 5.6.2 cross-validation for a subset of classes\n",
    "<a id='part5.6.2'> "
   ]
  },
  {
   "cell_type": "markdown",
   "id": "c6d64d54",
   "metadata": {},
   "source": [
    "- we will check cross-validation results for **high and low quality** classes.\n",
    "\n",
    "*(using joint scoring metrics)*"
   ]
  },
  {
   "cell_type": "code",
   "execution_count": 81,
   "id": "17d09c74",
   "metadata": {},
   "outputs": [],
   "source": [
    "f1_weighted_high_low = make_scorer(f1_score, average='weighted', labels=['high','low'])\n",
    "precision_weighted_high_low = make_scorer(precision_score, average='weighted', labels=['high','low'])\n",
    "recall_weighted_high_low = make_scorer(recall_score, average='weighted', labels=['high','low'])"
   ]
  },
  {
   "cell_type": "code",
   "execution_count": 82,
   "id": "51d28456",
   "metadata": {},
   "outputs": [
    {
     "name": "stdout",
     "output_type": "stream",
     "text": [
      "Average Performance\n",
      "\n",
      "test_f1_weighted_high_low          0.206\n",
      "test_precision_weighted_high_low   0.127\n",
      "test_recall_weighted_high_low      0.602\n",
      "dtype: float64\n"
     ]
    },
    {
     "data": {
      "text/html": [
       "<div>\n",
       "<style scoped>\n",
       "    .dataframe tbody tr th:only-of-type {\n",
       "        vertical-align: middle;\n",
       "    }\n",
       "\n",
       "    .dataframe tbody tr th {\n",
       "        vertical-align: top;\n",
       "    }\n",
       "\n",
       "    .dataframe thead th {\n",
       "        text-align: right;\n",
       "    }\n",
       "</style>\n",
       "<table border=\"1\" class=\"dataframe\">\n",
       "  <thead>\n",
       "    <tr style=\"text-align: right;\">\n",
       "      <th></th>\n",
       "      <th>fit_time</th>\n",
       "      <th>score_time</th>\n",
       "      <th>test_f1_weighted_high_low</th>\n",
       "      <th>test_precision_weighted_high_low</th>\n",
       "      <th>test_recall_weighted_high_low</th>\n",
       "    </tr>\n",
       "  </thead>\n",
       "  <tbody>\n",
       "    <tr>\n",
       "      <th>1</th>\n",
       "      <td>0.092</td>\n",
       "      <td>0.018</td>\n",
       "      <td>0.185</td>\n",
       "      <td>0.114</td>\n",
       "      <td>0.526</td>\n",
       "    </tr>\n",
       "    <tr>\n",
       "      <th>2</th>\n",
       "      <td>0.120</td>\n",
       "      <td>0.030</td>\n",
       "      <td>0.195</td>\n",
       "      <td>0.121</td>\n",
       "      <td>0.586</td>\n",
       "    </tr>\n",
       "    <tr>\n",
       "      <th>3</th>\n",
       "      <td>0.094</td>\n",
       "      <td>0.018</td>\n",
       "      <td>0.209</td>\n",
       "      <td>0.126</td>\n",
       "      <td>0.638</td>\n",
       "    </tr>\n",
       "    <tr>\n",
       "      <th>4</th>\n",
       "      <td>0.084</td>\n",
       "      <td>0.017</td>\n",
       "      <td>0.176</td>\n",
       "      <td>0.106</td>\n",
       "      <td>0.569</td>\n",
       "    </tr>\n",
       "    <tr>\n",
       "      <th>5</th>\n",
       "      <td>0.088</td>\n",
       "      <td>0.018</td>\n",
       "      <td>0.265</td>\n",
       "      <td>0.168</td>\n",
       "      <td>0.690</td>\n",
       "    </tr>\n",
       "  </tbody>\n",
       "</table>\n",
       "</div>"
      ],
      "text/plain": [
       "   fit_time  score_time  test_f1_weighted_high_low  \\\n",
       "1     0.092       0.018                      0.185   \n",
       "2     0.120       0.030                      0.195   \n",
       "3     0.094       0.018                      0.209   \n",
       "4     0.084       0.017                      0.176   \n",
       "5     0.088       0.018                      0.265   \n",
       "\n",
       "   test_precision_weighted_high_low  test_recall_weighted_high_low  \n",
       "1                             0.114                          0.526  \n",
       "2                             0.121                          0.586  \n",
       "3                             0.126                          0.638  \n",
       "4                             0.106                          0.569  \n",
       "5                             0.168                          0.690  "
      ]
     },
     "execution_count": 82,
     "metadata": {},
     "output_type": "execute_result"
    }
   ],
   "source": [
    "model = Pipeline(steps=[\n",
    "      ('scaler', StandardScaler()),\n",
    "      ('clf', LogisticRegression(class_weight={'high':20, 'low':15, 'medium':1}, random_state=101))\n",
    "])\n",
    "\n",
    "scores = cross_validate(model, X_train, y_train, scoring={'f1_weighted_high_low': f1_weighted_high_low,\n",
    "                                                          'precision_weighted_high_low': precision_weighted_high_low,\n",
    "                                                          'recall_weighted_high_low': recall_weighted_high_low}, cv=5)\n",
    "\n",
    "df_scores = pd.DataFrame(scores, index=range(1, 6))\n",
    "print('Average Performance\\n', df_scores.mean()[2:], sep='\\n')\n",
    "\n",
    "df_scores"
   ]
  },
  {
   "cell_type": "markdown",
   "id": "b4c92de8",
   "metadata": {},
   "source": [
    "### 5.6.3 cross-validation for a specific class\n",
    "<a id='part5.6.3'>"
   ]
  },
  {
   "cell_type": "markdown",
   "id": "d040836d",
   "metadata": {},
   "source": [
    "- we will check cross-validation results for **high quality** class."
   ]
  },
  {
   "cell_type": "code",
   "execution_count": 83,
   "id": "27221d16",
   "metadata": {},
   "outputs": [],
   "source": [
    "f1_high = make_scorer(f1_score, average=None, labels=['high'])\n",
    "precision_high = make_scorer(precision_score, average=None, labels=['high'])\n",
    "recall_high = make_scorer(recall_score, average=None, labels=['high'])"
   ]
  },
  {
   "cell_type": "code",
   "execution_count": 84,
   "id": "27ca4dd3",
   "metadata": {},
   "outputs": [
    {
     "name": "stdout",
     "output_type": "stream",
     "text": [
      "Average Performance\n",
      "\n",
      "test_f1_high          0.161\n",
      "test_precision_high   0.092\n",
      "test_recall_high      0.645\n",
      "dtype: float64\n"
     ]
    },
    {
     "data": {
      "text/html": [
       "<div>\n",
       "<style scoped>\n",
       "    .dataframe tbody tr th:only-of-type {\n",
       "        vertical-align: middle;\n",
       "    }\n",
       "\n",
       "    .dataframe tbody tr th {\n",
       "        vertical-align: top;\n",
       "    }\n",
       "\n",
       "    .dataframe thead th {\n",
       "        text-align: right;\n",
       "    }\n",
       "</style>\n",
       "<table border=\"1\" class=\"dataframe\">\n",
       "  <thead>\n",
       "    <tr style=\"text-align: right;\">\n",
       "      <th></th>\n",
       "      <th>fit_time</th>\n",
       "      <th>score_time</th>\n",
       "      <th>test_f1_high</th>\n",
       "      <th>test_precision_high</th>\n",
       "      <th>test_recall_high</th>\n",
       "    </tr>\n",
       "  </thead>\n",
       "  <tbody>\n",
       "    <tr>\n",
       "      <th>1</th>\n",
       "      <td>0.089</td>\n",
       "      <td>0.020</td>\n",
       "      <td>0.162</td>\n",
       "      <td>0.095</td>\n",
       "      <td>0.571</td>\n",
       "    </tr>\n",
       "    <tr>\n",
       "      <th>2</th>\n",
       "      <td>0.111</td>\n",
       "      <td>0.025</td>\n",
       "      <td>0.149</td>\n",
       "      <td>0.084</td>\n",
       "      <td>0.655</td>\n",
       "    </tr>\n",
       "    <tr>\n",
       "      <th>3</th>\n",
       "      <td>0.085</td>\n",
       "      <td>0.017</td>\n",
       "      <td>0.179</td>\n",
       "      <td>0.103</td>\n",
       "      <td>0.690</td>\n",
       "    </tr>\n",
       "    <tr>\n",
       "      <th>4</th>\n",
       "      <td>0.084</td>\n",
       "      <td>0.017</td>\n",
       "      <td>0.156</td>\n",
       "      <td>0.088</td>\n",
       "      <td>0.690</td>\n",
       "    </tr>\n",
       "    <tr>\n",
       "      <th>5</th>\n",
       "      <td>0.088</td>\n",
       "      <td>0.017</td>\n",
       "      <td>0.159</td>\n",
       "      <td>0.091</td>\n",
       "      <td>0.621</td>\n",
       "    </tr>\n",
       "  </tbody>\n",
       "</table>\n",
       "</div>"
      ],
      "text/plain": [
       "   fit_time  score_time  test_f1_high  test_precision_high  test_recall_high\n",
       "1     0.089       0.020         0.162                0.095             0.571\n",
       "2     0.111       0.025         0.149                0.084             0.655\n",
       "3     0.085       0.017         0.179                0.103             0.690\n",
       "4     0.084       0.017         0.156                0.088             0.690\n",
       "5     0.088       0.017         0.159                0.091             0.621"
      ]
     },
     "execution_count": 84,
     "metadata": {},
     "output_type": "execute_result"
    }
   ],
   "source": [
    "model = Pipeline(steps=[\n",
    "      ('scaler', StandardScaler()),\n",
    "      ('clf', LogisticRegression(class_weight={'high':20, 'low':15, 'medium':1}, random_state=101))\n",
    "])\n",
    "\n",
    "scores = cross_validate(model, X_train, y_train, scoring={'f1_high': f1_high,\n",
    "                                                          'precision_high': precision_high,\n",
    "                                                          'recall_high': recall_high}, cv=5)\n",
    "\n",
    "df_scores = pd.DataFrame(scores, index=range(1, 6))\n",
    "print('Average Performance\\n', df_scores.mean()[2:], sep='\\n')\n",
    "\n",
    "df_scores"
   ]
  },
  {
   "cell_type": "markdown",
   "id": "871cd752",
   "metadata": {},
   "source": [
    "We can also get accuracy score with a specific class' scores together"
   ]
  },
  {
   "cell_type": "code",
   "execution_count": 85,
   "id": "5b226d80",
   "metadata": {},
   "outputs": [
    {
     "name": "stdout",
     "output_type": "stream",
     "text": [
      "Average Performance\n",
      "\n",
      "test_accuracy            0.629\n",
      "test_accuracy_balanced   0.612\n",
      "test_f1_high             0.161\n",
      "test_precision_high      0.092\n",
      "test_recall_high         0.645\n",
      "dtype: float64\n"
     ]
    },
    {
     "data": {
      "text/html": [
       "<div>\n",
       "<style scoped>\n",
       "    .dataframe tbody tr th:only-of-type {\n",
       "        vertical-align: middle;\n",
       "    }\n",
       "\n",
       "    .dataframe tbody tr th {\n",
       "        vertical-align: top;\n",
       "    }\n",
       "\n",
       "    .dataframe thead th {\n",
       "        text-align: right;\n",
       "    }\n",
       "</style>\n",
       "<table border=\"1\" class=\"dataframe\">\n",
       "  <thead>\n",
       "    <tr style=\"text-align: right;\">\n",
       "      <th></th>\n",
       "      <th>fit_time</th>\n",
       "      <th>score_time</th>\n",
       "      <th>test_accuracy</th>\n",
       "      <th>test_accuracy_balanced</th>\n",
       "      <th>test_f1_high</th>\n",
       "      <th>test_precision_high</th>\n",
       "      <th>test_recall_high</th>\n",
       "    </tr>\n",
       "  </thead>\n",
       "  <tbody>\n",
       "    <tr>\n",
       "      <th>1</th>\n",
       "      <td>0.088</td>\n",
       "      <td>0.033</td>\n",
       "      <td>0.653</td>\n",
       "      <td>0.572</td>\n",
       "      <td>0.162</td>\n",
       "      <td>0.095</td>\n",
       "      <td>0.571</td>\n",
       "    </tr>\n",
       "    <tr>\n",
       "      <th>2</th>\n",
       "      <td>0.118</td>\n",
       "      <td>0.021</td>\n",
       "      <td>0.607</td>\n",
       "      <td>0.594</td>\n",
       "      <td>0.149</td>\n",
       "      <td>0.084</td>\n",
       "      <td>0.655</td>\n",
       "    </tr>\n",
       "    <tr>\n",
       "      <th>3</th>\n",
       "      <td>0.083</td>\n",
       "      <td>0.021</td>\n",
       "      <td>0.630</td>\n",
       "      <td>0.635</td>\n",
       "      <td>0.179</td>\n",
       "      <td>0.103</td>\n",
       "      <td>0.690</td>\n",
       "    </tr>\n",
       "    <tr>\n",
       "      <th>4</th>\n",
       "      <td>0.084</td>\n",
       "      <td>0.021</td>\n",
       "      <td>0.589</td>\n",
       "      <td>0.576</td>\n",
       "      <td>0.156</td>\n",
       "      <td>0.088</td>\n",
       "      <td>0.690</td>\n",
       "    </tr>\n",
       "    <tr>\n",
       "      <th>5</th>\n",
       "      <td>0.087</td>\n",
       "      <td>0.021</td>\n",
       "      <td>0.665</td>\n",
       "      <td>0.681</td>\n",
       "      <td>0.159</td>\n",
       "      <td>0.091</td>\n",
       "      <td>0.621</td>\n",
       "    </tr>\n",
       "  </tbody>\n",
       "</table>\n",
       "</div>"
      ],
      "text/plain": [
       "   fit_time  score_time  test_accuracy  test_accuracy_balanced  test_f1_high  \\\n",
       "1     0.088       0.033          0.653                   0.572         0.162   \n",
       "2     0.118       0.021          0.607                   0.594         0.149   \n",
       "3     0.083       0.021          0.630                   0.635         0.179   \n",
       "4     0.084       0.021          0.589                   0.576         0.156   \n",
       "5     0.087       0.021          0.665                   0.681         0.159   \n",
       "\n",
       "   test_precision_high  test_recall_high  \n",
       "1                0.095             0.571  \n",
       "2                0.084             0.655  \n",
       "3                0.103             0.690  \n",
       "4                0.088             0.690  \n",
       "5                0.091             0.621  "
      ]
     },
     "execution_count": 85,
     "metadata": {},
     "output_type": "execute_result"
    }
   ],
   "source": [
    "model = Pipeline(steps=[\n",
    "      ('scaler', StandardScaler()),\n",
    "      ('clf', LogisticRegression(class_weight={'high':20, 'low':15, 'medium':1}, random_state=101))\n",
    "])\n",
    "\n",
    "scores = cross_validate(model, X_train, y_train, scoring={'accuracy': make_scorer(accuracy_score),\n",
    "                                                          'accuracy_balanced': make_scorer(balanced_accuracy_score),\n",
    "                                                          'f1_high': f1_high,\n",
    "                                                          'precision_high': precision_high,\n",
    "                                                          'recall_high': recall_high}, cv=5)\n",
    "\n",
    "df_scores = pd.DataFrame(scores, index=range(1, 6))\n",
    "print('Average Performance\\n', df_scores.mean()[2:], sep='\\n')\n",
    "\n",
    "df_scores"
   ]
  },
  {
   "cell_type": "markdown",
   "id": "791f161d",
   "metadata": {},
   "source": [
    "***"
   ]
  },
  {
   "cell_type": "markdown",
   "id": "bbeada2d",
   "metadata": {},
   "source": [
    "## 5.7 Grid Search For Multiclass Classification\n",
    "<a id='part5.7'>"
   ]
  },
  {
   "cell_type": "markdown",
   "id": "9700bd79",
   "metadata": {},
   "source": [
    "[CONTENT](#content)"
   ]
  },
  {
   "cell_type": "code",
   "execution_count": 86,
   "id": "ceb28414",
   "metadata": {},
   "outputs": [],
   "source": [
    "from sklearn.model_selection import GridSearchCV"
   ]
  },
  {
   "cell_type": "markdown",
   "id": "e93e89b5",
   "metadata": {},
   "source": [
    "We should prefer StratifiedKFold over KFold when dealing with classification tasks with imbalanced class distributions."
   ]
  },
  {
   "cell_type": "markdown",
   "id": "772c0b71",
   "metadata": {},
   "source": [
    "<code style=\"background:yellow;color:black\">\"cv\" parameter : For int/None inputs, if the estimator is a classifier and y is either binary or multiclass, StratifiedKFold is used. In all other cases, KFold is used. These splitters are instantiated with \"shuffle=False\" so the splits will be the same across calls. default cv=None, to use the default 5-fold cross validation</code>"
   ]
  },
  {
   "cell_type": "markdown",
   "id": "93b52ff8",
   "metadata": {},
   "source": [
    "### 5.7.1 GridSearchCV for accuracy score\n",
    "<a id='part5.7.1'>"
   ]
  },
  {
   "cell_type": "markdown",
   "id": "4c219b64",
   "metadata": {},
   "source": [
    "- Higher accuracy means better performance?"
   ]
  },
  {
   "cell_type": "code",
   "execution_count": 87,
   "id": "c2cd4537",
   "metadata": {},
   "outputs": [
    {
     "name": "stdout",
     "output_type": "stream",
     "text": [
      "Fitting 5 folds for each of 72 candidates, totalling 360 fits\n",
      "\n",
      " {'clf__C': 0.01, 'clf__class_weight': None, 'clf__penalty': 'none', 'clf__solver': 'sag'}\n",
      "\n",
      " Best Score : 0.9272727272727274\n"
     ]
    }
   ],
   "source": [
    "model = Pipeline(steps=[\n",
    "      ('scaler', StandardScaler()),\n",
    "      ('clf', LogisticRegression(random_state=101))\n",
    "])\n",
    "\n",
    "param_grid = [\n",
    "  {'clf__solver': ['sag', 'newton-cg', 'lbfgs'], 'clf__penalty': ['l2','none'], 'clf__C': [0.01, 0.1, 1, 10], \n",
    "   'clf__class_weight': ['balanced', None]},\n",
    "  {'clf__solver': ['saga'], 'clf__penalty': ['l1','l2','none'], 'clf__C': [0.01, 0.1, 1, 10], \n",
    "   'clf__class_weight': ['balanced', None]}\n",
    " ]\n",
    "\n",
    "grid_model = GridSearchCV(model, param_grid, cv=5, verbose=1, n_jobs=-1)  # default scoring metric is \"accuracy\"\n",
    "\n",
    "grid_model.fit(X_train, y_train)\n",
    "\n",
    "print('\\n', grid_model.best_params_)\n",
    "print('\\n', 'Best Score :', grid_model.best_score_)"
   ]
  },
  {
   "cell_type": "code",
   "execution_count": 88,
   "id": "e2734fbd",
   "metadata": {},
   "outputs": [],
   "source": [
    "y_pred = grid_model.predict(X_test)"
   ]
  },
  {
   "cell_type": "code",
   "execution_count": 89,
   "id": "978e6f41",
   "metadata": {},
   "outputs": [
    {
     "name": "stdout",
     "output_type": "stream",
     "text": [
      "[[  0   0  36]\n",
      " [  0   1  35]\n",
      " [  1   2 902]]\n",
      "              precision    recall  f1-score   support\n",
      "\n",
      "        high       0.00      0.00      0.00        36\n",
      "         low       0.33      0.03      0.05        36\n",
      "      medium       0.93      1.00      0.96       905\n",
      "\n",
      "    accuracy                           0.92       977\n",
      "   macro avg       0.42      0.34      0.34       977\n",
      "weighted avg       0.87      0.92      0.89       977\n",
      "\n"
     ]
    }
   ],
   "source": [
    "print(confusion_matrix(y_test, y_pred))\n",
    "print(classification_report(y_test, y_pred))"
   ]
  },
  {
   "cell_type": "markdown",
   "id": "aebd92d1",
   "metadata": {},
   "source": [
    "<code style=\"background:yellow;color:black\">\"Accuracy\" is a poor and misleading performance measure for highly imbalanced data. Even with zero predictive power, we can get an increase in accuracy. (the accuracy paradox)</code>"
   ]
  },
  {
   "cell_type": "markdown",
   "id": "d46c64db",
   "metadata": {},
   "source": [
    "### 5.7.2 GridSearchCV for balanced accuracy score (macro avg-recall)\n",
    "<a id='part5.7.2'>"
   ]
  },
  {
   "cell_type": "code",
   "execution_count": 90,
   "id": "75e2c0d3",
   "metadata": {},
   "outputs": [
    {
     "name": "stdout",
     "output_type": "stream",
     "text": [
      "Fitting 5 folds for each of 72 candidates, totalling 360 fits\n",
      "\n",
      " {'clf__C': 10, 'clf__class_weight': 'balanced', 'clf__penalty': 'l2', 'clf__solver': 'saga'}\n",
      "\n",
      " Best Score : 0.6254874395962325\n"
     ]
    }
   ],
   "source": [
    "model = Pipeline(steps=[\n",
    "      ('scaler', StandardScaler()),\n",
    "      ('clf', LogisticRegression(random_state=101))\n",
    "])\n",
    "\n",
    "param_grid = [\n",
    "  {'clf__solver': ['sag', 'newton-cg', 'lbfgs'], 'clf__penalty': ['l2','none'], 'clf__C': [0.01, 0.1, 1, 10], \n",
    "   'clf__class_weight': ['balanced', None]},\n",
    "  {'clf__solver': ['saga'], 'clf__penalty': ['l1','l2','none'], 'clf__C': [0.01, 0.1, 1, 10], \n",
    "   'clf__class_weight': ['balanced', None]}\n",
    " ]\n",
    "\n",
    "grid_model = GridSearchCV(model, param_grid, scoring='balanced_accuracy', verbose=1, n_jobs=-1)\n",
    "\n",
    "grid_model.fit(X_train, y_train)\n",
    "\n",
    "print('\\n', grid_model.best_params_)\n",
    "print('\\n', 'Best Score :', grid_model.best_score_)"
   ]
  },
  {
   "cell_type": "code",
   "execution_count": 91,
   "id": "2e1572a2",
   "metadata": {},
   "outputs": [],
   "source": [
    "y_pred = grid_model.predict(X_test)"
   ]
  },
  {
   "cell_type": "code",
   "execution_count": 92,
   "id": "f6de3469",
   "metadata": {},
   "outputs": [
    {
     "name": "stdout",
     "output_type": "stream",
     "text": [
      "[[ 24   3   9]\n",
      " [  3  22  11]\n",
      " [251 213 441]]\n",
      "              precision    recall  f1-score   support\n",
      "\n",
      "        high       0.09      0.67      0.15        36\n",
      "         low       0.09      0.61      0.16        36\n",
      "      medium       0.96      0.49      0.65       905\n",
      "\n",
      "    accuracy                           0.50       977\n",
      "   macro avg       0.38      0.59      0.32       977\n",
      "weighted avg       0.89      0.50      0.61       977\n",
      "\n"
     ]
    }
   ],
   "source": [
    "print(confusion_matrix(y_test, y_pred))\n",
    "print(classification_report(y_test, y_pred))"
   ]
  },
  {
   "cell_type": "markdown",
   "id": "50e86478",
   "metadata": {},
   "source": [
    "### 5.7.3 GridSearchCV for a specific class\n",
    "<a id='part5.7.3'>"
   ]
  },
  {
   "cell_type": "markdown",
   "id": "3572349f",
   "metadata": {},
   "source": [
    "- we will try to increase recall score of the \"high\" quality class"
   ]
  },
  {
   "cell_type": "code",
   "execution_count": 93,
   "id": "9145c864",
   "metadata": {},
   "outputs": [
    {
     "name": "stdout",
     "output_type": "stream",
     "text": [
      "Fitting 5 folds for each of 108 candidates, totalling 540 fits\n",
      "\n",
      " {'clf__C': 0.1, 'clf__class_weight': {'high': 30}, 'clf__penalty': 'l1', 'clf__solver': 'saga'}\n",
      "\n",
      " Best Score : 0.8263546798029557\n"
     ]
    }
   ],
   "source": [
    "model = Pipeline(steps=[\n",
    "      ('scaler', StandardScaler()),\n",
    "      ('clf', LogisticRegression(random_state=101))\n",
    "])\n",
    "\n",
    "param_grid = [\n",
    "  {'clf__solver': ['sag', 'newton-cg', 'lbfgs'], 'clf__penalty': ['l2','none'], 'clf__C': [0.01, 0.1, 1, 10], \n",
    "   'clf__class_weight': [{'high': w} for w in [20, 30, 35]]},\n",
    "  {'clf__solver': ['saga'], 'clf__penalty': ['l1','l2','none'], 'clf__C': [0.01, 0.1, 1, 10], \n",
    "   'clf__class_weight': [{'high': w} for w in [20, 30, 35]]}\n",
    " ]\n",
    "\n",
    "recall_high = make_scorer(recall_score, average=None, labels=['high'])  \n",
    "\n",
    "grid_model = GridSearchCV(model, param_grid, scoring=recall_high, verbose=1, n_jobs=-1)\n",
    "\n",
    "grid_model.fit(X_train, y_train)\n",
    "\n",
    "print('\\n', grid_model.best_params_)\n",
    "print('\\n', 'Best Score :', grid_model.best_score_)"
   ]
  },
  {
   "cell_type": "code",
   "execution_count": 94,
   "id": "cd2ab2a5",
   "metadata": {},
   "outputs": [],
   "source": [
    "y_pred = grid_model.predict(X_test)"
   ]
  },
  {
   "cell_type": "code",
   "execution_count": 95,
   "id": "5332f7b9",
   "metadata": {},
   "outputs": [
    {
     "name": "stdout",
     "output_type": "stream",
     "text": [
      "[[ 30   0   6]\n",
      " [  6   0  30]\n",
      " [352   2 551]]\n",
      "              precision    recall  f1-score   support\n",
      "\n",
      "        high       0.08      0.83      0.14        36\n",
      "         low       0.00      0.00      0.00        36\n",
      "      medium       0.94      0.61      0.74       905\n",
      "\n",
      "    accuracy                           0.59       977\n",
      "   macro avg       0.34      0.48      0.29       977\n",
      "weighted avg       0.87      0.59      0.69       977\n",
      "\n"
     ]
    }
   ],
   "source": [
    "print(confusion_matrix(y_test, y_pred))\n",
    "print(classification_report(y_test, y_pred))"
   ]
  },
  {
   "cell_type": "markdown",
   "id": "c896c922",
   "metadata": {},
   "source": [
    "***"
   ]
  },
  {
   "cell_type": "markdown",
   "id": "bedecb20",
   "metadata": {},
   "source": [
    "***When dealing with class-imbalance data, the final decision in model selection should consider a combination of different measures (balanced accuracy, f-measure, adjusted f-measure, ROC/AUC, youden's index, kappa, etc.) instead of relying on only one measure.***"
   ]
  },
  {
   "attachments": {
    "performance-metrics-in-machine-learning.png": {
     "image/png": "[encoded data removed]"
    }
   },
   "cell_type": "markdown",
   "id": "0fdd9171",
   "metadata": {},
   "source": [
    "![performance-metrics-in-machine-learning.png](attachment:performance-metrics-in-machine-learning.png)"
   ]
  }
 ],
 "metadata": {
  "kernelspec": {
   "display_name": "Python 3 (ipykernel)",
   "language": "python",
   "name": "python3"
  },
  "language_info": {
   "codemirror_mode": {
    "name": "ipython",
    "version": 3
   },
   "file_extension": ".py",
   "mimetype": "text/x-python",
   "name": "python",
   "nbconvert_exporter": "python",
   "pygments_lexer": "ipython3",
   "version": "3.9.6"
  }
 },
 "nbformat": 4,
 "nbformat_minor": 5
}
